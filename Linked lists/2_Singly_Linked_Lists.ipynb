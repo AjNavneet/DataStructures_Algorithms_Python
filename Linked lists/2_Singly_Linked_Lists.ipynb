{
  "nbformat": 4,
  "nbformat_minor": 0,
  "metadata": {
    "colab": {
      "provenance": []
    },
    "kernelspec": {
      "name": "python3",
      "display_name": "Python 3"
    },
    "language_info": {
      "name": "python"
    }
  },
  "cells": [
    {
      "cell_type": "markdown",
      "source": [
        "# Singly Linked Lists\n",
        "\n",
        "A typical \"linked list\" often refers to a singly linked list. In this type of list,\n",
        "- there are several nodes, and each node contains a \"next\" pointer pointing to the next element in the list.\n",
        "- The last node's \"next\" pointer is set to NULL, indicating the end of the list.\n",
        "\n",
        "For example:\n",
        "```\n",
        "15 -> 40 -> NULL\n",
        "```\n",
        "\n",
        "The term \"Head\" typically refers to the starting point of the singly linked list.\n",
        "\n",
        "---\n"
      ],
      "metadata": {
        "id": "ZttPvI_J175-"
      }
    },
    {
      "cell_type": "code",
      "source": [
        "# Node of a Singly Linked List\n",
        "class Node:\n",
        "    # Constructor\n",
        "    def __init__(self):\n",
        "        self.data = None\n",
        "        self.next = None\n",
        "\n",
        "    # Method for setting the data field of the node\n",
        "    def setData(self, data):\n",
        "        self.data = data\n",
        "\n",
        "    # Method for getting the data field of the node\n",
        "    def getData(self):\n",
        "        return self.data\n",
        "\n",
        "    # Method for setting the next field of the node\n",
        "    def setNext(self, next):\n",
        "        self.next = next\n",
        "\n",
        "    # Method for getting the next field of the node\n",
        "    def getNext(self):\n",
        "        return self.next\n",
        "\n",
        "    # Returns true if the node points to another node\n",
        "    def hasNext(self):\n",
        "        return self.next is not None\n"
      ],
      "metadata": {
        "id": "nu7UAoGT2Rrt"
      },
      "execution_count": null,
      "outputs": []
    },
    {
      "cell_type": "code",
      "source": [],
      "metadata": {
        "id": "9s6evyCe3PYE"
      },
      "execution_count": null,
      "outputs": []
    },
    {
      "cell_type": "markdown",
      "source": [
        "## Traversing the Linked List\n",
        "\n",
        "Assuming that the `Head` points to the first node of the list, the process of traversing the list involves the following steps:\n",
        "\n",
        "1. Start at the `Head` node.\n",
        "\n",
        "2. Follow the pointers from one node to the next.\n",
        "\n",
        "3. Display the contents of each node (or count them) as you traverse through them.\n",
        "\n",
        "4. Continue this process until the `next` pointer points to NULL, indicating the end of the list.\n",
        "\n",
        "For example:\n",
        "```\n",
        "5 -> NULL\n",
        "```\n",
        "\n",
        "---\n"
      ],
      "metadata": {
        "id": "8IS4UxJ_2MSJ"
      }
    },
    {
      "cell_type": "markdown",
      "source": [
        "### Counting the Number of Nodes in a Linked List\n",
        "\n",
        "The `listLength` function takes a linked list as input and counts the number of nodes in the list.\n"
      ],
      "metadata": {
        "id": "wtj4DMwt2vHk"
      }
    },
    {
      "cell_type": "code",
      "source": [
        "# Counting the Number of Nodes in a Linked List\n",
        "def listLength(self):\n",
        "    # Start at the head of the list\n",
        "    current = self.head\n",
        "    # Initialize a count variable\n",
        "    count = 0\n",
        "    # Traverse the list until the end (current becomes None)\n",
        "    while current is not None:\n",
        "        # Increment the count for each node encountered\n",
        "        count += 1\n",
        "        # Move to the next node\n",
        "        current = current.getNext()\n",
        "    # Return the count as the total number of nodes in the list\n",
        "    return count\n"
      ],
      "metadata": {
        "id": "oqZIeEWN2-t5"
      },
      "execution_count": null,
      "outputs": []
    },
    {
      "cell_type": "markdown",
      "source": [
        "It works as follows:\n",
        "- It initializes a `current` variable to the head of the list.\n",
        "\n",
        "- It sets a `count` variable to 0 to keep track of the number of nodes.\n",
        "\n",
        "- It enters a loop that continues until `current` becomes `None`.\n",
        "  - In each iteration, it increments the `count` by 1 and moves to the next node using the `current.getNext()` method.\n",
        "\n",
        "- Finally, it returns the `count` as the total number of nodes in the linked list.\n",
        "\n",
        "  ---\n",
        "\n",
        "**Time Complexity:** O(n) - This function scans the entire list of size n, visiting each node once.\n",
        "\n",
        "**Space Complexity:** O(1) - It uses only a constant amount of additional memory for the `count` and `current` variables."
      ],
      "metadata": {
        "id": "MJB_1tAs6Bnq"
      }
    },
    {
      "cell_type": "code",
      "source": [],
      "metadata": {
        "id": "QKCF-vlV3N-w"
      },
      "execution_count": null,
      "outputs": []
    },
    {
      "cell_type": "markdown",
      "source": [
        "## Inserting a Node at the Beginning of a Singly Linked List\n",
        "\n",
        "To insert a new node at the beginning of a singly linked list, follow these steps:\n",
        "\n",
        "1. Create a new node with the desired data.\n",
        "\n",
        "2. Update the next pointer of the new node to point to the current head of the list. This step connects the new node to the rest of the list.\n",
        "\n",
        "Example:\n",
        "```\n",
        "New Node\n",
        "data: 15\n",
        "next: 40 -> NULL\n",
        "\n",
        "Head\n",
        "```\n",
        "\n",
        "3. Update the head pointer to point to the new node. This step effectively makes the new node the new head of the list.\n",
        "\n",
        "Example:\n",
        "```\n",
        "New Node\n",
        "data: 15\n",
        "next: 40 -> NULL\n",
        "\n",
        "Head\n",
        "```"
      ],
      "metadata": {
        "id": "zpPa2HOe3H5u"
      }
    },
    {
      "cell_type": "code",
      "source": [
        "# Method for inserting a new node at the beginning of the Linked List (at the head)\n",
        "\n",
        "def insertAtBeginning(self, data):\n",
        "    # Create a new node with the provided data\n",
        "    newNode = Node()\n",
        "    newNode.setData(data)\n",
        "\n",
        "    # Check if the linked list is empty\n",
        "    if self.length == 0:\n",
        "        self.head = newNode\n",
        "    else:\n",
        "        # Set the next pointer of the new node to the current head\n",
        "        newNode.setNext(self.head)\n",
        "        # Update the head pointer to point to the new node\n",
        "        self.head = newNode\n",
        "\n",
        "    # Increment the length of the linked list\n",
        "    self.length += 1\n"
      ],
      "metadata": {
        "id": "3s2zy8id3uiQ"
      },
      "execution_count": null,
      "outputs": []
    },
    {
      "cell_type": "code",
      "source": [],
      "metadata": {
        "id": "Kc1fTa4N37B5"
      },
      "execution_count": null,
      "outputs": []
    },
    {
      "cell_type": "markdown",
      "source": [
        "## Inserting a Node at the End of a Singly Linked List\n",
        "\n",
        "To insert a new node at the end of a singly linked list, follow these steps:\n",
        "\n",
        "1. Create a new node with the desired data.\n",
        "\n",
        "2. Modify the next pointer of the last node in the current list to point to the new node. This step connects the new node to the end of the list.\n",
        "\n",
        "3. Update the head pointer (if needed) to point to the new node, making it the new last node in the list.\n",
        "\n",
        "\n"
      ],
      "metadata": {
        "id": "pnmPTE5C2S0Y"
      }
    },
    {
      "cell_type": "code",
      "source": [
        "# Method for inserting a new node at the end of a Linked List\n",
        "def insertAtEnd(self, data):\n",
        "    # Create a new node with the provided data\n",
        "    newNode = Node()\n",
        "    newNode.setData(data)\n",
        "\n",
        "    # Check if the linked list is empty\n",
        "    if self.length == 0:\n",
        "        self.head = newNode\n",
        "    else:\n",
        "        current = self.head\n",
        "        # Traverse the list to find the last node\n",
        "        while current.getNext() is not None:\n",
        "            current = current.getNext()\n",
        "        # Set the next pointer of the last node to the new node\n",
        "        current.setNext(newNode)\n",
        "\n",
        "    # Increment the length of the linked list\n",
        "    self.length += 1\n"
      ],
      "metadata": {
        "id": "c7er8zbt4CMe"
      },
      "execution_count": null,
      "outputs": []
    },
    {
      "cell_type": "code",
      "source": [],
      "metadata": {
        "id": "2N9FYi6g4HaD"
      },
      "execution_count": null,
      "outputs": []
    },
    {
      "cell_type": "markdown",
      "source": [
        "## Inserting a Node at a Specific Position in a Singly Linked List\n",
        "\n",
        "To insert a new node at a specific position in a singly linked list, follow these steps:\n",
        "\n",
        "1. Identify the position where you want to insert the new node. For example, if you want to insert at position 3, stop at position 2 during traversal.\n",
        "\n",
        "2. Traverse the list, moving through nodes until you reach the desired position. In this example, you would traverse 2 nodes to reach the position where the new node should be inserted.\n",
        "\n",
        "3. Create a new node with the desired data.\n",
        "\n",
        "4. Update the `next` pointer of the new node to point to the next node of the position where you want to add the new node.\n",
        "\n",
        "5. Update the `next` pointer of the position node (node at the desired position) to point to the new node. This step effectively inserts the new node into the list.\n",
        "\n",
        "\n",
        "---\n",
        "\n",
        "Suppose you have the following singly linked list:\n",
        "\n",
        "```\n",
        "Head -> Node 1 -> Node 2 -> Node 3 -> Node 4 -> NULL\n",
        "```\n",
        "\n",
        "You want to insert a new node (let's call it \"New Node\") at position 3, which means it will be inserted between Node 2 and Node 3.\n",
        "\n",
        "1. Identify the position and stop at Node 2:\n",
        "\n",
        "```\n",
        "Head -> Node 1 -> Node 2 -> [New Node] -> Node 3 -> Node 4 -> NULL\n",
        "```\n",
        "\n",
        "2. Create the \"New Node\" with the desired data:\n",
        "\n",
        "```\n",
        "Head -> Node 1 -> Node 2 -> [New Node] (data: X) -> Node 3 -> Node 4 -> NULL\n",
        "```\n",
        "\n",
        "3. Update the `next` pointer of the \"New Node\" to point to the next node of the position where you want to add the new node (Node 3):\n",
        "\n",
        "```\n",
        "Head -> Node 1 -> Node 2 -> [New Node] (data: X, next: Node 3) -> Node 3 -> Node 4 -> NULL\n",
        "```\n",
        "\n",
        "4. Update the `next` pointer of the position node (Node 2) to point to the \"New Node,\" effectively inserting it into the list:\n",
        "\n",
        "```\n",
        "Head -> Node 1 -> Node 2 -> [New Node] (data: X, next: Node 3) -> Node 3 -> Node 4 -> NULL\n",
        "```\n",
        "\n",
        "Now, you have successfully inserted the \"New Node\" at position 3 in the singly linked list.\n",
        "\n",
        "  ---\n",
        "\n",
        "\n"
      ],
      "metadata": {
        "id": "Ji39ry0s4HgT"
      }
    },
    {
      "cell_type": "code",
      "source": [
        "# Method for inserting a new node at any position in a Linked List\n",
        "def insertAtPos(self, pos, data):\n",
        "    if pos > self.length or pos < 0:\n",
        "        return None\n",
        "    else:\n",
        "        if pos == 0:\n",
        "            self.insertAtBeginning(data)\n",
        "        elif pos == self.length:\n",
        "            self.insertAtEnd(data)\n",
        "        else:\n",
        "            newNode = Node()\n",
        "            newNode.setData(data)\n",
        "            count = 0\n",
        "            current = self.head\n",
        "            while count < pos - 1:\n",
        "                count += 1\n",
        "                current = current.getNext()\n",
        "            newNode.setNext(current.getNext())\n",
        "            current.setNext(newNode)\n",
        "            self.length += 1\n"
      ],
      "metadata": {
        "id": "Z6cV9fou45I-"
      },
      "execution_count": null,
      "outputs": []
    },
    {
      "cell_type": "markdown",
      "source": [
        "The `insertAtPos` method allows you to insert a new node with the provided data at any position within the linked list. It handles various cases depending on the position:\n",
        "\n",
        "1. We check if the given position is valid (within the range of the list).\n",
        "\n",
        "2. If `pos` is 0, we call the `insertAtBeginning(data)` method to insert the new node at the beginning.\n",
        "\n",
        "3. If `pos` is equal to the length of the list, we call the `insertAtEnd(data)` method to insert the new node at the end.\n",
        "\n",
        "4. For positions in between, we create a new node, traverse the list to reach the node before the desired position, and insert the new node accordingly.\n",
        "\n",
        "---"
      ],
      "metadata": {
        "id": "c1vPp4-_5eQ6"
      }
    },
    {
      "cell_type": "markdown",
      "source": [
        "### Time and Space Complexity Analysis\n",
        "\n",
        "The `insertAtPos` method is designed to insert a new node at a specific position in a linked list. Here's a breakdown of its complexity:\n",
        "\n",
        "- **Time Complexity:** O(n) - In the worst case, when inserting a node at the end of the list or at a position deep within the list, the method may need to traverse the entire list. The time it takes is linear, proportional to the length of the list.\n",
        "\n",
        "- **Space Complexity:** O(1) - The method has a constant space complexity because it only creates a single temporary variable (`newNode`) regardless of the size of the list. No additional memory allocation that depends on the list size is used.\n",
        "\n",
        "---\n"
      ],
      "metadata": {
        "id": "ESQ9UjTG52s9"
      }
    },
    {
      "cell_type": "code",
      "source": [],
      "metadata": {
        "id": "dnDaMcpQ5n_L"
      },
      "execution_count": null,
      "outputs": []
    },
    {
      "cell_type": "markdown",
      "source": [
        "## Deleting the First Node in a Singly Linked List\n",
        "\n",
        "To remove the first node (current head node) from a singly linked list, follow these two steps:\n",
        "\n",
        "1. Create a temporary node that points to the same node as the head node.\n",
        "  - Note: Temporary node is not necessary but is used to consistently deal with edge cases.\n",
        "\n",
        "2. Move the head node's pointer to the next node and dispose of the temporary node.\n",
        "\n",
        "---\n",
        "\n",
        "\n",
        "Suppose you have the following singly linked list:\n",
        "\n",
        "```\n",
        "Head -> Node 1 -> Node 2 -> Node 3 -> NULL\n",
        "```\n",
        "\n",
        "You want to delete the first node, which is the current head node (Node 1).\n",
        "\n",
        "1. Create a temporary node (let's call it \"Temp\") that points to the same node as the head:\n",
        "\n",
        "  ```\n",
        "  Head -> Node 1 -> Node 2 -> Node 3 -> NULL\n",
        "  Temp -> Node 1\n",
        "  ```\n",
        "\n",
        "2. Move the head node's pointer to the next node (Node 2) and dispose of the temporary node:\n",
        "\n",
        "  ```\n",
        "  Head -> Node 2 -> Node 3 -> NULL\n",
        "  Temp -> Node 1 (Disposed)\n",
        "  ```\n",
        "\n",
        "Now, you have successfully deleted the first node (Node 1) from the singly linked list, and the new head points to Node 2.\n",
        "\n",
        "---\n"
      ],
      "metadata": {
        "id": "5rbikbW46pSK"
      }
    },
    {
      "cell_type": "code",
      "source": [
        "# Method to delete the first node of the linked list\n",
        "def deleteFromBeginning(self):\n",
        "    if self.length == 0:\n",
        "        print(\"The list is empty\")\n",
        "    else:\n",
        "        self.head = self.head.getNext()\n",
        "        self.length -= 1\n"
      ],
      "metadata": {
        "id": "-keGizYp7FOA"
      },
      "execution_count": null,
      "outputs": []
    },
    {
      "cell_type": "code",
      "source": [],
      "metadata": {
        "id": "fEOciV1A7zso"
      },
      "execution_count": null,
      "outputs": []
    },
    {
      "cell_type": "markdown",
      "source": [
        "## Deleting the Last Node in a Singly Linked List\n",
        "\n",
        "Removing the last node from a singly linked list involves three steps:\n",
        "\n",
        "1. Traverse the list while maintaining the address of the previous node. When you reach the end of the list, you will have two pointers: one pointing to the last node (the tail) and the other pointing to the node just before the tail.\n",
        "\n",
        "2. Update the next pointer of the previous node to point to NULL. This effectively detaches the last node from the list.\n",
        "\n",
        "3. Dispose of (delete) the tail node.\n",
        "\n",
        "These three steps allow you to delete the last node in a singly linked list.\n",
        "\n",
        "---\n",
        "\n",
        "Suppose you have the following singly linked list:\n",
        "\n",
        "```\n",
        "Head -> Node 1 -> Node 2 -> Node 3 -> NULL\n",
        "```\n",
        "\n",
        "You want to delete the last node, which is \"Node 3.\"\n",
        "\n",
        "1. Traverse the list while maintaining the address of the previous node. When you reach the end of the list, you have two pointers: one pointing to the last node (the tail, which is \"Node 3\") and the other pointing to the node just before the tail (\"Node 2\").\n",
        "\n",
        "```\n",
        "Head -> Node 1 -> Node 2 -> Node 3 -> NULL\n",
        "\n",
        "Previous Node       Tail\n",
        "```\n",
        "\n",
        "2. Update the `next` pointer of the previous node (\"Node 2\") to point to NULL. This detaches the last node (\"Node 3\") from the list.\n",
        "\n",
        "```\n",
        "Head -> Node 1 -> Node 2 -> Node 3 -> NULL\n",
        "\n",
        "Previous Node             Tail\n",
        "```\n",
        "\n",
        "3. Dispose of (delete) the tail node (\"Node 3\").\n",
        "\n",
        "```\n",
        "Head -> Node 1 -> Node 2 -> NULL\n",
        "\n",
        "Previous Node             Tail\n",
        "```\n",
        "\n",
        "Now, you have successfully deleted the last node (\"Node 3\") from the singly linked list, and the list ends with \"Node 2\" pointing to NULL.\n",
        "\n",
        "---"
      ],
      "metadata": {
        "id": "wZ7S3AmI7zx0"
      }
    },
    {
      "cell_type": "code",
      "source": [
        "# Method to delete the last node of the linked list\n",
        "def deleteLastNodeFromSinglyLinkedList(self):\n",
        "    if self.length == 0:\n",
        "        print(\"The list is empty\")\n",
        "    else:\n",
        "        current_node = self.head\n",
        "        previous_node = self.head\n",
        "        while current_node.getNext() != None:\n",
        "            previous_node = current_node\n",
        "            current_node = current_node.getNext()\n",
        "        previous_node.setNext(None)\n",
        "        self.length -= 1\n"
      ],
      "metadata": {
        "id": "bMPvDfhc8YtR"
      },
      "execution_count": null,
      "outputs": []
    },
    {
      "cell_type": "code",
      "source": [],
      "metadata": {
        "id": "4XS65iZP8fSS"
      },
      "execution_count": null,
      "outputs": []
    },
    {
      "cell_type": "markdown",
      "source": [
        "## Deleting an Intermediate Node in a Singly Linked List\n",
        "\n",
        "When you need to remove a node that is located between two other nodes in a singly linked list, you can follow these two steps:\n",
        "\n",
        "1. Maintain a pointer to the previous node while traversing the list. Once you reach the node to be deleted, update the previous node's `next` pointer to point to the next node of the node to be deleted.\n",
        "\n",
        "2. Dispose of (delete) the current node to be deleted.\n",
        "\n",
        "These two steps allow you to effectively delete an intermediate node in a singly linked list without updating the head and tail links.\n",
        "\n",
        "---\n",
        "\n",
        "Suppose you have the following singly linked list:\n",
        "\n",
        "```\n",
        "Head -> Node 1 -> Node 2 -> Node 3 -> NULL\n",
        "```\n",
        "\n",
        "You want to delete \"Node 2,\" which is an intermediate node located between \"Node 1\" and \"Node 3.\"\n",
        "\n",
        "1. Maintain a pointer to the previous node (\"Previous Node\") while traversing the list. Once you reach the node to be deleted (\"Node 2\"), update the previous node's `next` pointer to point to the next node of the node to be deleted.\n",
        "\n",
        "```\n",
        "Head -> Node 1 -> Node 2 -> Node 3 -> NULL\n",
        "\n",
        "Head             Previous Node   Node to be Deleted\n",
        "```\n",
        "\n",
        "2. Dispose of (delete) the current node to be deleted (\"Node 2\").\n",
        "\n",
        "```\n",
        "Head -> Node 1 ------> Node 3 -> NULL\n",
        "\n",
        "Head             Previous Node   Node to be Deleted\n",
        "```\n",
        "\n",
        "Now, you have successfully deleted the intermediate node \"Node 2\" from the singly linked list. The list remains connected with \"Node 1\" pointing to \"Node 3.\"\n",
        "\n",
        "---"
      ],
      "metadata": {
        "id": "SPGuDrLA8fXf"
      }
    },
    {
      "cell_type": "code",
      "source": [
        "# Delete a node from the linked list by reference to the node itself\n",
        "def deleteFromLinkedListWithNode(self, node):\n",
        "    if self.length == 0:\n",
        "        raise ValueError(\"List is empty\")\n",
        "    else:\n",
        "        current = self.head\n",
        "        previous = None\n",
        "        found = False\n",
        "        while not found:\n",
        "            if current is node:\n",
        "                found = True\n",
        "            elif current is None:\n",
        "                raise ValueError(\"Node not in Linked List\")\n",
        "            else:\n",
        "                previous = current\n",
        "                current = current.getNext()\n",
        "        if previous is None:\n",
        "            self.head = current.getNext()\n",
        "        else:\n",
        "            previous.setNext(current.getNext())\n",
        "        self.length -= 1\n",
        "\n",
        "# Delete a node from the linked list by its value\n",
        "def deleteByValue(self, value):\n",
        "    current_node = self.head\n",
        "    previous_node = None\n",
        "    while current_node is not None and current_node.getData() != value:\n",
        "        previous_node = current_node\n",
        "        current_node = current_node.getNext()\n",
        "\n",
        "    if current_node is not None:\n",
        "        if previous_node is None:\n",
        "            self.head = current_node.getNext()\n",
        "        else:\n",
        "            previous_node.setNext(current_node.getNext())\n",
        "        self.length -= 1\n",
        "    else:\n",
        "        print(\"The value provided is not present\")\n",
        "\n",
        "# Delete a node from the linked list at a particular position\n",
        "def deleteAtPosition(self, pos):\n",
        "    count = 0\n",
        "    current_node = self.head\n",
        "    previous_node = None\n",
        "\n",
        "    if pos >= self.length or pos < 0:\n",
        "        print(\"The position does not exist. Please enter a valid position\")\n",
        "    else:\n",
        "        while count < pos:\n",
        "            previous_node = current_node\n",
        "            current_node = current_node.getNext()\n",
        "            count += 1\n",
        "\n",
        "        if previous_node is None:\n",
        "            self.head = current_node.getNext()\n",
        "        else:\n",
        "            previous_node.setNext(current_node.getNext())\n",
        "\n",
        "        self.length -= 1\n"
      ],
      "metadata": {
        "id": "sHh428hQ83_Z"
      },
      "execution_count": null,
      "outputs": []
    },
    {
      "cell_type": "code",
      "source": [],
      "metadata": {
        "id": "rkC_b9AF9Fan"
      },
      "execution_count": null,
      "outputs": []
    },
    {
      "cell_type": "markdown",
      "source": [
        "## Time and Space Complexity for Deleting Nodes in a Singly Linked List\n",
        "\n",
        "- Deleting a node from a singly linked list has the following complexity:\n",
        "  - Time Complexity: O(n) in the worst case since we may need to traverse the entire list to find the node to delete.\n",
        "  - Space Complexity: O(1) for using a single temporary variable.\n",
        "\n",
        "  ---\n",
        "\n",
        "## Deleting a Singly Linked List\n",
        "\n",
        "Python has automatic garbage collection, so if you reduce the size of your list by deleting nodes, it will automatically reclaim memory.\n",
        "\n",
        "To clear the entire singly linked list, you can use the following method:\n",
        "\n",
        "```python\n",
        "def clear(self):\n",
        "    self.head = None\n",
        "```\n",
        "\n",
        "- Time Complexity: O(1) since it directly sets the head to `None`.\n",
        "- Space Complexity: O(1) as it uses a constant amount of memory for the operation.\n",
        "\n",
        "---"
      ],
      "metadata": {
        "id": "yyD0edks9FhX"
      }
    },
    {
      "cell_type": "code",
      "source": [],
      "metadata": {
        "id": "DeX1dGGj9VvI"
      },
      "execution_count": null,
      "outputs": []
    }
  ]
}