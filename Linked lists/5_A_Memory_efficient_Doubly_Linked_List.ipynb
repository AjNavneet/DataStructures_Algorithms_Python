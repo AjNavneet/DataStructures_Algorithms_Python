{
  "nbformat": 4,
  "nbformat_minor": 0,
  "metadata": {
    "colab": {
      "provenance": []
    },
    "kernelspec": {
      "name": "python3",
      "display_name": "Python 3"
    },
    "language_info": {
      "name": "python"
    }
  },
  "cells": [
    {
      "cell_type": "markdown",
      "source": [
        "## A Memory-Efficient Doubly Linked List\n",
        "\n",
        "In typical implementations, a doubly linked list includes elements with three components: data, a pointer to the next node, and a pointer to the previous node. This structure can be represented as:\n",
        "\n",
        "```\n",
        "Previous Node    Data    Next Node\n",
        "```\n",
        "\n",
        "In a memory-efficient approach, we optimize memory usage by employing only two pointers per element instead of three. The concept is to save memory while retaining the core functionality of a doubly linked list. This method can be especially useful in scenarios where efficient memory usage is a primary concern.\n",
        "\n",
        "For example, in a traditional doubly linked list, transitioning from node A to node B is direct using the forward and backward pointers. In a memory-efficient implementation, such a transition might require traversal from node A to the end of the list, reconstructing the backward pointer to node B as needed. This balance between memory efficiency and traversal efficiency is a practical choice in specific contexts.\n",
        "\n",
        "---\n"
      ],
      "metadata": {
        "id": "NPTyYnvZT4HR"
      }
    },
    {
      "cell_type": "code",
      "source": [
        "class Node:\n",
        "    def __init__(self, data=None):\n",
        "        # Constructor: Initialize a Node with optional data and a next reference.\n",
        "        self.data = data\n",
        "        self.next = None\n",
        "\n",
        "    def setData(self, data):\n",
        "        # Method for setting the data field of the node.\n",
        "        self.data = data\n",
        "\n",
        "    def getData(self):\n",
        "        # Method for getting the data field of the node.\n",
        "        return self.data\n",
        "\n",
        "    def setNext(self, next_node):\n",
        "        # Method for setting the next field of the node, which points to the next node in the list.\n",
        "        self.next = next_node\n",
        "\n",
        "    def getNext(self):\n",
        "        # Method for getting the next field of the node, which references the next node.\n",
        "        return self.next\n",
        "\n",
        "    def hasNext(self):\n",
        "        # Returns True if the node points to another node, i.e., if the next field is not None.\n",
        "        return self.next is not None\n"
      ],
      "metadata": {
        "id": "uctmw_6aUR9Q"
      },
      "execution_count": null,
      "outputs": []
    },
    {
      "cell_type": "markdown",
      "source": [
        "Recently, a journal (Sinha) introduced an innovative implementation of the doubly linked list, featuring operations for insertion, traversal, and deletion. This approach relies on pointer differences. Notably, in this implementation, each node employs only a single pointer field to navigate the list in both forward and backward directions."
      ],
      "metadata": {
        "id": "P9ukUBnPUZ8E"
      }
    },
    {
      "cell_type": "code",
      "source": [
        "class Node:\n",
        "    def __init__(self):\n",
        "        # Constructor: Initialize a Node with data and a pointer difference.\n",
        "        self.data = None\n",
        "        self.ptrdiff = None\n",
        "\n",
        "    def setData(self, data):\n",
        "        # Method for setting the data field of the node.\n",
        "        self.data = data\n",
        "\n",
        "    def getData(self):\n",
        "        # Method for getting the data field of the node.\n",
        "        return self.data\n",
        "\n",
        "    def setPtrDiff(self, prev, next):\n",
        "        # Method for setting the pointer difference field of the node using XOR of prev and next pointers.\n",
        "        self.ptrdiff = prev ^ next\n",
        "\n",
        "    def getPtrDiff(self):\n",
        "        # Method for getting the pointer difference field of the node.\n",
        "        return self.ptrdiff\n"
      ],
      "metadata": {
        "id": "PfxfdCzLUjVO"
      },
      "execution_count": null,
      "outputs": []
    },
    {
      "cell_type": "markdown",
      "source": [
        "The `ptrdiff` pointer field represents the difference between the pointer to the next node and the pointer to the previous node. This difference is calculated using an exclusive-OR (XOR) operation.\n",
        "\n",
        "To calculate `ptrdiff`, you take the pointer to the previous node and XOR it with the pointer to the next node:\n",
        "```\n",
        "ptrdiff = previous node pointer XOR next node pointer\n",
        "```\n",
        "\n",
        "For the start node (head node), the `ptrdiff` is the XOR of a NULL pointer and the pointer to the next node (the node after the head). Similarly, for the end node, the `ptrdiff` is the XOR of the pointer to the previous node (the node before the end) and a NULL pointer.\n",
        "\n",
        "Here's an example of a linked list to illustrate this concept:\n",
        "\n",
        "In this example:\n",
        "- The next pointer of node A is: NULL XOR B\n",
        "- The next pointer of node B is: A XOR C\n",
        "- The next pointer of node C is: B XOR D\n",
        "- The next pointer of node D is: C XOR NULL\n",
        "\n",
        "---"
      ],
      "metadata": {
        "id": "3EJPBQ54UplA"
      }
    },
    {
      "cell_type": "markdown",
      "source": [
        "## How it Works\n",
        "\n",
        "To understand why this works, let's look at the properties of the operations involved:\n",
        "\n",
        "1. **XOR Property**:\n",
        "   - `X ⊕ X = 0`: XOR-ing the same value with itself results in zero.\n",
        "   - `X ⊕ 0 = X`: XOR-ing a value with zero leaves the value unchanged.\n",
        "\n",
        "2. **Symmetry Property**:\n",
        "   - `X @ Y = Y @ X` (symmetric): The order of XOR operations doesn't matter; it's symmetric.\n",
        "\n",
        "3. **Transitivity Property**:\n",
        "   - `(X @ Y) @ Z = X ⊕ (Y ⊕ Z)` (transitive): We can combine XOR operations and obtain the result in a transitive manner.\n",
        "\n",
        "Now, let's apply these properties to an example. Imagine we're at node C and want to move to node B, where C's `ptrdiff` is defined as `B @ D`. To get to B, we perform XOR on C's `ptrdiff` with D, resulting in B. This happens because:\n",
        "\n",
        "```\n",
        "(B @ D) ⊕ D = B (since, D ⊕ D = 0)\n",
        "```\n",
        "\n",
        "Similarly, if we want to move to D, we apply XOR to C's `ptrdiff` with B:\n",
        "\n",
        "```\n",
        "(B @ D) ⊕ B = D (since, B ⊕ B = 0)\n",
        "```\n",
        "\n",
        "This discussion shows that using just a single pointer allows us to move both backward and forward efficiently. This approach enables a memory-efficient implementation of a doubly linked list with minimal impact on timing efficiency.\n",
        "\n",
        "---"
      ],
      "metadata": {
        "id": "bM6IZ8mcU-nz"
      }
    },
    {
      "cell_type": "code",
      "source": [],
      "metadata": {
        "id": "r_3ajfwcVjps"
      },
      "execution_count": null,
      "outputs": []
    }
  ]
}