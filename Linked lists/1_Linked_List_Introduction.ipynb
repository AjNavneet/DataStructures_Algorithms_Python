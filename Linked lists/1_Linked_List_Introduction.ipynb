{
  "nbformat": 4,
  "nbformat_minor": 0,
  "metadata": {
    "colab": {
      "provenance": []
    },
    "kernelspec": {
      "name": "python3",
      "display_name": "Python 3"
    },
    "language_info": {
      "name": "python"
    }
  },
  "cells": [
    {
      "cell_type": "markdown",
      "source": [
        "# What is a Linked List?\n",
        "\n",
        "A linked list is a data structure used to store collections of data of same type, and it has the following characteristics:\n",
        "\n",
        "- Elements are connected in sequence using pointers.\n",
        "- The last element points to \"NULL,\" indicating the end of the list.\n",
        "- It can dynamically grow or shrink in size while a program is running.\n",
        "- It can be extended as needed, up to the system's memory limits.\n",
        "- It's memory-efficient but requires some extra memory for the pointers.\n",
        "\n",
        "Example:\n",
        "```\n",
        "15 -> 40 -> NULL\n",
        "HEAD\n",
        "```\n",
        "\n",
        "The \"Head\" typically refers to the starting point of the linked list.\n",
        "\n",
        "---\n"
      ],
      "metadata": {
        "id": "cggAZ_3Jaicd"
      }
    },
    {
      "cell_type": "code",
      "source": [],
      "metadata": {
        "id": "HA4TNiv80r_w"
      },
      "execution_count": null,
      "outputs": []
    },
    {
      "cell_type": "markdown",
      "source": [
        "## Linked Lists ADT (Abstract Data Type)\n",
        "\n",
        "Linked lists offer the following core operations that define them as an ADT:\n",
        "\n",
        "**Main Linked Lists Operations:**\n",
        "- **Insert:** Adds an element to the list.\n",
        "- **Delete:** Removes and returns an element from the list based on a specified position.\n",
        "\n",
        "**Auxiliary Linked Lists Operations:**\n",
        "- **Delete List:** Clears the entire list, disposing of its elements.\n",
        "- **Count:** Calculates and returns the total number of elements in the list.\n",
        "- **Find nth Node from the End:** Locates and returns the node at the nth position from the end of the list.\n",
        "\n",
        "These operations collectively define the behavior and functionality of the linked list ADT.\n",
        "\n",
        "---\n"
      ],
      "metadata": {
        "id": "kIfn5KyJbsl9"
      }
    },
    {
      "cell_type": "code",
      "source": [],
      "metadata": {
        "id": "XjUJIl4E0tDb"
      },
      "execution_count": null,
      "outputs": []
    },
    {
      "cell_type": "markdown",
      "source": [
        "## Why Use Linked Lists?\n",
        "\n",
        "Linked lists serve a specific purpose in data structures, and to understand their significance, it's essential to compare them to another common data structure: arrays. Both linked lists and arrays store collections of data, but they have distinct use cases.\n",
        "\n",
        "**Arrays and Linked Lists in Distinction:**\n",
        "- **Arrays** are suitable when you have a fixed-size collection of data, and you know the size in advance.\n",
        "- **Linked lists** are more versatile and fit scenarios where the collection's size may change dynamically during program execution.\n",
        "\n",
        "Understanding when to use arrays and when to opt for linked lists is crucial in designing efficient data structures.\n",
        "\n",
        "---\n"
      ],
      "metadata": {
        "id": "jMj9HY1YcBL_"
      }
    },
    {
      "cell_type": "code",
      "source": [],
      "metadata": {
        "id": "Hde2xgQh0tnW"
      },
      "execution_count": null,
      "outputs": []
    },
    {
      "cell_type": "markdown",
      "source": [
        "## Arrays Overview\n",
        "\n",
        "- In arrays, a single memory block is allocated to store all elements.\n",
        "- To access elements, you use the element's index as a subscript, allowing for constant-time access.\n",
        "\n",
        "---\n",
        "\n",
        "### Why Constant Time for Accessing Array Elements?\n",
        "\n",
        "When you want to access an element in an array, the computer follows a straightforward process:\n",
        "\n",
        "1. Calculate the element's memory address by finding the offset from the base address of the array.\n",
        "2. This calculation involves a single multiplication to determine the value to be added to the base address.\n",
        "3. Initially, the size of an element's data type is determined, and it's multiplied by the element's index.\n",
        "4. This process results in a value that gets added to the base address.\n",
        "\n",
        "Since this procedure involves only one multiplication and one addition, both of which take a fixed amount of time regardless of the array's size, we can confidently conclude that accessing array elements is a constant-time operation.\n",
        "\n",
        "---\n",
        "\n",
        "### Example\n",
        "\n",
        "Consider an array of integers:\n",
        "\n",
        "```\n",
        "[10, 20, 30, 40, 50]\n",
        "```\n",
        "\n",
        "- Now, let's say we want to access the second element, which is `20`, at index 1.\n",
        "\n",
        "  1. The computer knows the base address of the array (where the array starts in memory).\n",
        "\n",
        "  2. To access the element at index 1, it calculates an offset from the base address. This offset is determined by multiplying the index by the size of an element's data type. In this case, let's assume the size of an integer is 4 bytes.\n",
        "\n",
        "  3. So, the offset for `my_array[1]` would be `1 * 4 = 4` bytes.\n",
        "\n",
        "  4. Adding this offset to the base address gives us the exact memory address where the element `20` is stored.\n",
        "\n",
        "- Regardless of the size of the array, the operations performed are the same: a single multiplication (to calculate the offset) and a single addition (to find the memory address).\n",
        "\n",
        "- These operations take a fixed amount of time, regardless of the array's size.\n",
        "\n",
        "---\n",
        "\n"
      ],
      "metadata": {
        "id": "xiaNUgWFcsWE"
      }
    },
    {
      "cell_type": "markdown",
      "source": [
        "### Why Constant Time for Accessing Array Elements?\n",
        "\n",
        "When accessing an element in an array, the following steps occur:\n",
        "\n",
        "1. The element's memory address is computed as an offset from the base address of the array.\n",
        "2. One multiplication operation is used to determine the value to add to the base address, which yields the memory address of the element.\n",
        "3. Initially, the size of an element's data type is calculated.\n",
        "4. This size is then multiplied by the index of the element, resulting in the value added to the base address.\n",
        "\n",
        "The entire process involves one multiplication and one addition operation. Since both of these operations take constant time, we can confidently conclude that accessing elements in an array can be performed in constant time.\n",
        "\n",
        "---\n"
      ],
      "metadata": {
        "id": "9amFVwIFdRS3"
      }
    },
    {
      "cell_type": "code",
      "source": [],
      "metadata": {
        "id": "AQMGkwvh0u0t"
      },
      "execution_count": null,
      "outputs": []
    },
    {
      "cell_type": "markdown",
      "source": [
        "## Advantages of Arrays\n",
        "\n",
        "- **Simplicity:** Arrays are straightforward and user-friendly.\n",
        "\n",
        "- **Fast Access:** You can access elements quickly with constant-time access, no matter the size of array.\n",
        "\n",
        "## Disadvantages of Arrays\n",
        "\n",
        "- **Fixed Size:** Arrays have a predetermined size(static at any given point of time), which must be specified before use.\n",
        "\n",
        "- **Memory Allocation:** Arrays allocate memory as a single block at the beginning.\n",
        "  - This can be problematic when dealing with large arrays because it may not always be possible to obtain enough contiguous memory for the entire array. -> This can lead to memory allocation issues.\n",
        "\n",
        "- **Complex Insertion:** Inserting an element at a specific position in an array can be complex.\n",
        "  - It often requires shifting the existing elements to create space for the new element.\n",
        "\n",
        "  - The complexity and cost of this operation increase when the insertion point is especially at the beginning of the array since all other elements need to be shifted.\n",
        "\n",
        "---\n"
      ],
      "metadata": {
        "id": "WmRJ-y-bzNKB"
      }
    },
    {
      "cell_type": "code",
      "source": [],
      "metadata": {
        "id": "dchY5f2X0vSG"
      },
      "execution_count": null,
      "outputs": []
    },
    {
      "cell_type": "markdown",
      "source": [
        "## Dynamic Arrays\n",
        "\n",
        "- A dynamic array, also known as a growable array, resizable array, dynamic table, or array list, is a flexible and random-access data structure that allows for the addition and removal of elements.\n",
        "\n",
        "  - One common way to implement dynamic arrays is by starting with a fixed-size array -> When this array becomes full, a new array, double the size of the original, is created.\n",
        "  - Similarly, if the number of elements in the array decreases to less than half, the array size can be reduced by half.\n",
        "\n",
        "**Note**: We will explore the implementation of dynamic arrays in more detail in the chapters on Stacks, Queues, and Hashing.\n",
        "\n",
        "---\n"
      ],
      "metadata": {
        "id": "6FswJTtczvpm"
      }
    },
    {
      "cell_type": "code",
      "source": [],
      "metadata": {
        "id": "15Holqfh0vx4"
      },
      "execution_count": null,
      "outputs": []
    },
    {
      "cell_type": "markdown",
      "source": [
        "## Advantages of Linked Lists\n",
        "\n",
        "Linked lists offer certain advantages, primarily related to their flexibility:\n",
        "\n",
        "- **Dynamic Expansion:** Linked lists can expand easily and quickly, providing constant-time expansion.\n",
        "  - Unlike arrays, which require the creation of a new array and copying of old elements, linked lists can grow efficiently.\n",
        "\n",
        "- **Memory Efficiency:** With linked lists, you can start with space allocated for just one element and easily add more elements without copying or reallocating memory. This efficient use of memory prevents wastage.\n",
        "\n",
        "Linked lists are a valuable choice when you need dynamic, memory-efficient data structures.\n",
        "\n",
        "---\n"
      ],
      "metadata": {
        "id": "WnKd9aIS0QY6"
      }
    },
    {
      "cell_type": "code",
      "source": [],
      "metadata": {
        "id": "vEKkxpgAfXDB"
      },
      "execution_count": null,
      "outputs": []
    },
    {
      "cell_type": "markdown",
      "source": [
        "## Issues with Linked Lists (Disadvantages)\n",
        "\n",
        "Linked lists come with certain drawbacks:\n",
        "\n",
        "- **Access Time:** Accessing individual elements in a linked list takes longer compared to arrays.\n",
        "  - Arrays offer constant-time `(O(1))` random access, while linked lists can take linear time `(O(n))` in the worst case to access an element.\n",
        "\n",
        "- **Memory Locality:** Arrays have a memory advantage because they store elements in contiguous memory blocks, benefiting from modern CPU caching methods.\n",
        "  - Linked lists don't exhibit this spacial locality in memory.\n",
        "\n",
        "- **Overhead:** While dynamic allocation of storage is an advantage, linked lists may incur overhead when storing and retrieving data. This overhead can impact performance.\n",
        "\n",
        "- **Complex Manipulation:** Modifying linked lists, especially when deleting the last element, can be challenging.\n",
        "  - Deleting the last element often requires traversing the list to find the last-but-one link and setting its pointer to NULL.\n",
        "\n",
        "- **Wasteful Memory Usage:** Linked lists waste memory due to extra reference points (pointers) associated with each element.\n",
        "\n",
        "---\n"
      ],
      "metadata": {
        "id": "hY0NYG0K0wbj"
      }
    },
    {
      "cell_type": "code",
      "source": [],
      "metadata": {
        "id": "4wgbd1sm1OuX"
      },
      "execution_count": null,
      "outputs": []
    },
    {
      "cell_type": "markdown",
      "source": [
        "## Comparison of Linked Lists with Arrays and Dynamic Arrays\n",
        "\n",
        "| Parameter               | Linked List  | Array       | Dynamic Array |\n",
        "|-------------------------|--------------|-------------|---------------|\n",
        "| Indexing                | O(n)         | O(1)        | O(1)          |\n",
        "| Insertion/deletion at beginning | O(1)   | O(n)        | O(n)          |\n",
        "| Insertion at ending     | O(n)         | O(1), if not full  | O(1), if not full |\n",
        "| Deletion at ending      | O(n)         | O(1)        | O(n)          |\n",
        "| Insertion in middle     | O(n)         | O(n)        | O(n)          |\n",
        "| Deletion in middle      | O(n)         | O(n)        | O(n)          |\n",
        "| Wasted Space            | O(n)         | None (0)     | O(n)          |\n",
        "\n",
        "This table provides a simplified comparison of the performance characteristics of linked lists, arrays, and dynamic arrays for various operations.\n",
        "\n",
        "---\n"
      ],
      "metadata": {
        "id": "easCLxlW1Znx"
      }
    },
    {
      "cell_type": "code",
      "source": [],
      "metadata": {
        "id": "l2tssaEc1d52"
      },
      "execution_count": null,
      "outputs": []
    }
  ]
}