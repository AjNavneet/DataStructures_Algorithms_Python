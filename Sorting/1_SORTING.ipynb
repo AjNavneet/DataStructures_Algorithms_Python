{
  "nbformat": 4,
  "nbformat_minor": 0,
  "metadata": {
    "colab": {
      "provenance": []
    },
    "kernelspec": {
      "name": "python3",
      "display_name": "Python 3"
    },
    "language_info": {
      "name": "python"
    }
  },
  "cells": [
    {
      "cell_type": "markdown",
      "source": [
        "# Sorting\n",
        "\n",
        "- Sorting is a process that organizes a list of items in a specific order, which can be either ascending or descending. The result is a rearranged version of the initial list.\n",
        "\n",
        "## The Importance of Sorting\n",
        "\n",
        "- Sorting is a vital part of computer science, with extensive research dedicated to it. It simplifies many problems, making it useful for tasks like database operations and searching.\n",
        "\n",
        "---"
      ],
      "metadata": {
        "id": "wVQTUKDrf_gz"
      }
    },
    {
      "cell_type": "markdown",
      "source": [
        "# Types of Sorting Algorithms\n",
        "Sorting algorithms are grouped by several characteristics:\n",
        "\n",
        "### Based on Comparisons\n",
        "- Sorting algorithms can be categorized based on the number of comparisons they make. For comparison-based methods, the best-case scenario requires O(nlogn) comparisons, while the worst case demands O(n^2) comparisons. These algorithms evaluate elements by comparing keys and need a minimum of O(nlogn) comparisons for most inputs.\n",
        "\n",
        "- In later sections, we'll explore non-comparison (linear) sorting algorithms like Counting Sort, Bucket Sort, and Radix Sort. These linear algorithms relax some constraints on inputs, improving efficiency.\n",
        "\n",
        "### Based on Swaps\n",
        "- Sorting algorithms are also classified by the number of swaps (or inversions) they perform.\n",
        "\n",
        "## Based on Memory Usage\n",
        "- Certain sorting algorithms are \"in place,\" meaning they require minimal memory (O(1) or O(logn)) to create temporary storage for sorting data.\n",
        "\n",
        "### Based on Recursion\n",
        "- Sorting algorithms can be either recursive (e.g., Quick Sort) or non-recursive (e.g., Selection Sort and Insertion Sort). Some, like Merge Sort, combine both approaches.\n",
        "\n",
        "### Based on Stability\n",
        "- A sorting algorithm is considered stable if, for any indices i and j where key R[i] equals key R[j], the relative order of R[i] and R[j] remains the same in the sorted list as it was in the original. Some sorting algorithms maintain the relative order of elements with equal keys.\n",
        "\n",
        "### Based on Adaptability\n",
        "- Certain sorting algorithms' efficiency depends on the input's pre-sortedness. Algorithms that adapt to the initial order are known as adaptive.\n",
        "\n",
        "---\n"
      ],
      "metadata": {
        "id": "lEQruVYohd2l"
      }
    },
    {
      "cell_type": "markdown",
      "source": [
        "## Other Sorting Classifications\n",
        "An alternative way to classify sorting algorithms is by their interaction with memory:\n",
        "\n",
        "### Internal Sort\n",
        "- Internal sorting algorithms operate entirely within main memory, assuming fast random access to all memory locations.\n",
        "\n",
        "### External Sort\n",
        "- Sorting algorithms that use external memory, such as tape or disk, for the sorting process fall into the category of external sorting.\n",
        "\n",
        "---\n",
        "---"
      ],
      "metadata": {
        "id": "S9Gt2J1dhk1E"
      }
    },
    {
      "cell_type": "markdown",
      "source": [
        "# Bubble Sort\n",
        "\n",
        "- Bubble Sort is a straightforward sorting algorithm. It functions by scanning through the input array from the beginning to the end, comparing adjacent elements, and swapping them if necessary. This process repeats until no more swaps are needed.\n",
        "\n",
        "- The name \"Bubble Sort\" comes from smaller elements gradually \"bubbling\" to the top of the list.\n",
        "\n",
        "- Generally, Bubble Sort has poorer performance compared to other sorting methods like Insertion Sort. Some experts discourage teaching Bubble Sort due to its simplicity and high time complexity.\n",
        "\n",
        "- The only notable advantage of Bubble Sort is its ability to detect whether the input list is already sorted.\n",
        "\n",
        "Below is a simple implementation:\n"
      ],
      "metadata": {
        "id": "oYFekneNgi50"
      }
    },
    {
      "cell_type": "code",
      "source": [
        "def BubbleSort(A):\n",
        "    for i in range(len(A)):\n",
        "        for k in range(len(A) - 1, i, -1):\n",
        "            if A[k] < A[k - 1]:\n",
        "                swap(A, k, k - 1)\n",
        "\n",
        "def swap(A, x, y):\n",
        "    temp = A[x]\n",
        "    A[x] = A[y]\n",
        "    A[y] = temp\n",
        "\n",
        "A = [534, 246, 933, 127, 277, 321, 454, 565, 220]\n",
        "BubbleSort(A)\n",
        "print(A)"
      ],
      "metadata": {
        "id": "gSLLppiDg5HL"
      },
      "execution_count": null,
      "outputs": []
    },
    {
      "cell_type": "markdown",
      "source": [
        "- In this basic version, the algorithm takes O(n) time, even in the best case.\n",
        "\n",
        "- You can enhance its performance by using an extra flag to skip additional passes if no more swaps are needed:\n",
        "\n"
      ],
      "metadata": {
        "id": "3IEccS8dg9Kh"
      }
    },
    {
      "cell_type": "code",
      "source": [
        "def BubbleSort(A):\n",
        "    swapped = 1\n",
        "    for i in range(len(A)):\n",
        "        if swapped == 0:\n",
        "            return\n",
        "        for k in range(len(A) - 1, i, -1):\n",
        "            if A[k] < A[k - 1]:\n",
        "                swap(A, k, k - 1)\n",
        "                swapped = 1\n",
        "\n",
        "A = [127, 220, 246, 277, 321, 454, 534, 565, 933]\n",
        "BubbleSort(A)\n",
        "print(A)"
      ],
      "metadata": {
        "id": "D9BqadCWg_KH"
      },
      "execution_count": null,
      "outputs": []
    },
    {
      "cell_type": "markdown",
      "source": [
        "\n",
        "- This modified version improves the best-case time complexity of Bubble Sort to O(n).\n",
        "\n",
        "**Performance:**\n",
        "- Worst-case complexity: O(n^2)\n",
        "- Best-case complexity (Improved version): O(n)\n",
        "- Average-case complexity (Basic version): O(n^2)\n",
        "- Worst-case space complexity: O(1) auxiliary\n",
        "\n",
        "---\n",
        "---\n",
        "\n"
      ],
      "metadata": {
        "id": "cjpf6unQhBGW"
      }
    },
    {
      "cell_type": "markdown",
      "source": [
        "# Selection Sort\n",
        "\n",
        "- Selection Sort is a straightforward in-place sorting algorithm. It is particularly effective for small lists and files with large values and small keys. Selection Sort is based on selecting elements by their keys and performing swaps only when necessary.\n",
        "\n",
        "- **Advantages:**\n",
        "  - Easy to implement\n",
        "  - In-place sorting (requires no extra storage space)\n",
        "\n",
        "- **Disadvantages:**\n",
        "  - Doesn't perform well for large lists (O(n^2))\n",
        "\n",
        "---\n",
        "\n",
        "- **Algorithm:**\n",
        "  1. Find the minimum value in the list.\n",
        "  2. Swap it with the value in the current position.\n",
        "  3. Repeat this process for all elements until the entire array is sorted.\n",
        "\n",
        "- This algorithm is named \"selection sort\" because it repeatedly selects the smallest element in the unsorted portion of the array and moves it to the correct position."
      ],
      "metadata": {
        "id": "xrbYi-nuhCmc"
      }
    },
    {
      "cell_type": "code",
      "source": [
        "def SelectionSort(A):\n",
        "    for i in range(len(A)):\n",
        "        least = i\n",
        "        for k in range(i + 1, len(A)):\n",
        "            if A[k] < A[least]:\n",
        "                least = k\n",
        "        swap(A, least, i)\n",
        "\n",
        "def swap(A, x, y):\n",
        "    temp = A[x]\n",
        "    A[x] = A[y]\n",
        "    A[y] = temp\n",
        "\n",
        "A = [54, 26, 93, 17, 77, 31, 44, 55, 20]\n",
        "SelectionSort(A)\n",
        "print(A)"
      ],
      "metadata": {
        "id": "dKzfYY6XiXfO"
      },
      "execution_count": null,
      "outputs": []
    },
    {
      "cell_type": "markdown",
      "source": [
        "**Performance:**\n",
        "- Worst-case time complexity: O(n^2)\n",
        "- Best-case time complexity: O(n^2)\n",
        "- Average-case time complexity: O(n^2)\n",
        "- Worst-case space complexity: O(1) auxiliary\n",
        "\n",
        "---\n",
        "---\n"
      ],
      "metadata": {
        "id": "RTXtrGYJiaY5"
      }
    },
    {
      "cell_type": "markdown",
      "source": [
        "# Insertion Sort\n",
        "\n",
        "Insertion Sort is a straightforward and efficient sorting method. In this algorithm, each iteration selects an element from the input data and inserts it into the correct position within the sorted list. This process repeats until all input elements are sorted.\n",
        "\n",
        "**Advantages:**\n",
        "- Simple to understand and implement\n",
        "- Effective for small datasets\n",
        "- Adaptive: If the input list is partially sorted, it has a time complexity of O(n + d), where d is the number of inversions.\n",
        "- Generally more efficient than Selection Sort and Bubble Sort, despite having the same worst-case complexity.\n",
        "- Stable: Maintains the relative order of input data when keys are equal.\n",
        "- In-place: Requires minimal additional memory (O(1)).\n",
        "- Online: Can sort a list as it's received.\n",
        "\n",
        "**Algorithm:**\n",
        "In each iteration, Insertion Sort removes an element from the input data and inserts it into the correct position in the already-sorted list. The sorting is typically done in-place. After k iterations, the first k + 1 entries in the resulting array are sorted.\n",
        "\n",
        "\n"
      ],
      "metadata": {
        "id": "Ce_HhGM9irmh"
      }
    },
    {
      "cell_type": "code",
      "source": [
        "def InsertionSort(A):\n",
        "    for i in range(1, len(A)):\n",
        "        temp = A[i]\n",
        "        k = i\n",
        "        while k > 0 and temp < A[k - 1]:\n",
        "            A[k] = A[k - 1]\n",
        "            k -= 1\n",
        "        A[k] = temp\n",
        "\n",
        "A = [54, 26, 93, 17, 77, 31, 44, 55, 20]\n",
        "InsertionSort(A)\n",
        "print(A)"
      ],
      "metadata": {
        "id": "abe-L_jtibtS"
      },
      "execution_count": null,
      "outputs": []
    },
    {
      "cell_type": "markdown",
      "source": [
        "**Example:**\n",
        "\n",
        "- Given an array: 6 8 1 4 5 3 7 2, the goal is to sort it in ascending order:\n",
        "  - 6 8 1 4 5 3 7 2 (Consider index 0)\n",
        "  - 6 8 1 4 5 3 7 2 (Consider indices 0 - 1)\n",
        "  - 1 6 8 4 5 3 7 2 (Consider indices 0 - 2: insert 1 in front of 6 and 8)\n",
        "  - 1 4 6 8 5 3 7 2 (Repeat the process until the array is sorted)\n",
        "  - 1 4 5 6 8 3 7 2\n",
        "  - 1 3 4 5 6 7 8 2\n",
        "  - 1 2 3 4 5 6 7 8 (The array is sorted!)\n",
        "\n",
        "**Performance:**\n",
        "- Worst-case time complexity: O(n^2)\n",
        "- Best-case time complexity: O(n)\n",
        "- Average-case time complexity: O(n^2)\n",
        "- Worst-case space complexity: O(n) total, O(1) auxiliary\n",
        "\n",
        "**Comparison to Other Sorting Algorithms:**\n",
        "\n",
        "- Insertion Sort is suitable when the data is nearly sorted (adaptive) or when the input size is small due to its low overhead. It's also stable, making it a good choice for the base case in divide-and-conquer sorting algorithms when the problem size is small, such as Merge Sort or Quick Sort.\n",
        "\n",
        "**Notes:**\n",
        "\n",
        "- Bubble Sort takes n^2 comparisons and swaps in both average and worst cases.\n",
        "- Selection Sort takes n^2 comparisons and n swaps.\n",
        "- Insertion Sort takes n^2 comparisons and n swaps in the average case, and double that in the worst case.\n",
        "- Insertion Sort performs well with partially sorted input.\n",
        "- Selection Sort is better suited for elements with large values and small keys.\n",
        "\n",
        "---\n",
        "---"
      ],
      "metadata": {
        "id": "kRkErVAli95j"
      }
    },
    {
      "cell_type": "markdown",
      "source": [
        "# Shell Sort\n",
        "\n",
        "Shell Sort, also known as diminishing increment sort, is an extension of the Insertion Sort algorithm. It's designed to efficiently sort data and is particularly effective when the data is not completely random. Instead of comparing only adjacent elements, Shell Sort makes several passes through the data, using various gaps between adjacent elements (with the final gap being 1, akin to the classical Insertion Sort).\n",
        "\n",
        "In Insertion Sort, we compare adjacent elements and make at most one inversion elimination for each comparison. Shell Sort improves upon this by delaying adjacent element comparisons until the last steps. It allows the comparison and exchange of elements that are far apart, which results in a more efficient sorting process.\n",
        "\n",
        "The primary difference between Shell Sort and Insertion Sort is that Shell Sort can exchange elements that are distant from each other, allowing items to move to their correct positions more quickly. For example, if the smallest element in the array is at the end, Insertion Sort would require a series of exchanges to move it to the beginning. In contrast, Shell Sort can efficiently move it in fewer steps.\n",
        "\n",
        "Shell Sort works by exchanging elements that are a certain distance apart, determined by the gap value, 'h.' This gap sets the distance between elements to be exchanged. The larger the 'h,' the farther apart the elements can be. As 'h' gradually reduces to 1, the algorithm approaches a regular Insertion Sort, but by that point, the array is already mostly sorted.\n",
        "\n"
      ],
      "metadata": {
        "id": "apG0xd1AjNzQ"
      }
    },
    {
      "cell_type": "code",
      "source": [
        "def ShellSort(A):\n",
        "    sublistcount = len(A) // 2\n",
        "    while sublistcount > 0:\n",
        "        for startposition in range(sublistcount):\n",
        "            GapInsertionSort(A, startposition, sublistcount)\n",
        "        sublistcount = sublistcount // 2\n",
        "\n",
        "def GapInsertionSort(A, start, gap):\n",
        "    for i in range(start + gap, len(A), gap):\n",
        "        currentvalue = A[i]\n",
        "        position = i\n",
        "        while position >= gap and A[position - gap] > currentvalue:\n",
        "            A[position] = A[position - gap]\n",
        "            position = position - gap\n",
        "        A[position] = currentvalue\n",
        "\n",
        "A = [534, 246, 933, 127, 277, 321, 454, 565, 220]\n",
        "ShellSort(A)\n",
        "print(A)"
      ],
      "metadata": {
        "id": "52QVo5Qtjvbl"
      },
      "execution_count": null,
      "outputs": []
    },
    {
      "cell_type": "markdown",
      "source": [
        "**Analysis:**\n",
        "- Shell Sort is efficient for medium-sized lists but not the best choice for larger lists. It is the fastest among O(n^2) sorting algorithms.\n",
        "- The algorithm's disadvantage is its complexity and relative inefficiency compared to merge, heap, and quick sorts.\n",
        "- In the best case, when the array is already sorted, the number of comparisons is reduced.\n",
        "- Shell Sort's performance depends on the choice of the increment sequence.\n",
        "\n",
        "**Performance:**\n",
        "- Worst-case complexity depends on the gap sequence. The best-known is O(n log n).\n",
        "- Best-case complexity: O(n)\n",
        "- Average-case complexity depends on the gap sequence.\n",
        "- Worst-case space complexity: O(n)\n",
        "\n",
        "---\n",
        "---\n"
      ],
      "metadata": {
        "id": "FbSQjXlqjyAa"
      }
    },
    {
      "cell_type": "markdown",
      "source": [
        "# Merge Sort\n",
        "\n",
        "Merge Sort is an example of the divide and conquer strategy for sorting. Here are some important points about Merge Sort:\n",
        "\n",
        "- **Merging** is the process of combining two sorted files to create one larger sorted file.\n",
        "\n",
        "- **Selection** is the process of dividing a file into two parts: the k smallest elements and the (n - k) largest elements. Selection and merging are opposite operations.\n",
        "\n",
        "- Merge Sort is the complement of Quick Sort. It accesses data sequentially.\n",
        "\n",
        "- Merge Sort is commonly used for sorting linked lists and is insensitive to the initial order of the input.\n",
        "\n",
        "- Unlike Quick Sort, which does most of its work before the recursive calls, Merge Sort starts with small subfiles and finishes with larger ones. This means it doesn't require a stack. Merge Sort is also a stable sorting algorithm.\n",
        "\n",
        "\n"
      ],
      "metadata": {
        "id": "t222efNRj1RC"
      }
    },
    {
      "cell_type": "code",
      "source": [
        "def MergeSort(A):\n",
        "    if len(A) > 1:\n",
        "        mid = len(A) // 2\n",
        "        lefthalf = A[:mid]\n",
        "        righthalf = A[mid:]\n",
        "\n",
        "        MergeSort(lefthalf)\n",
        "        MergeSort(righthalf)\n",
        "\n",
        "        i = j = k = 0\n",
        "        while i < len(lefthalf) and j < len(righthalf):\n",
        "            if lefthalf[i] < righthalf[j]:\n",
        "                A[k] = lefthalf[i]\n",
        "                i = i + 1\n",
        "            else:\n",
        "                A[k] = righthalf[j]\n",
        "                j = j + 1\n",
        "            k = k + 1\n",
        "\n",
        "        while i < len(lefthalf):\n",
        "            A[k] = lefthalf[i]\n",
        "            i = i + 1\n",
        "            k = k + 1\n",
        "\n",
        "        while j < len(righthalf):\n",
        "            A[k] = righthalf[j]\n",
        "            j = j + 1\n",
        "            k = k + 1\n",
        "\n",
        "A = [534, 246, 933, 127, 277, 321, 454, 565, 220]\n",
        "MergeSort(A)\n",
        "print(A)"
      ],
      "metadata": {
        "id": "KWT0skNLkRr2"
      },
      "execution_count": null,
      "outputs": []
    },
    {
      "cell_type": "markdown",
      "source": [
        "**Analysis:**\n",
        "- Merge Sort follows a divide and conquer approach. It divides the input list into two parts and solves them recursively. After solving the subproblems, it merges them by scanning the results of the subproblems. The time complexity of Merge Sort with n elements can be defined using the recurrence relation:\n",
        "\n",
        "- Recurrence for Merge Sort: T(n) = 2T(n/2) + O(n)\n",
        "\n",
        "- Using the Master Theorem, we find that T(n) = O(n log n).\n",
        "\n",
        "**Performance:**\n",
        "- Worst-case time complexity: O(n log n)\n",
        "- Best-case time complexity: O(n log n)\n",
        "- Average-case time complexity: O(n log n)\n",
        "- Worst-case space complexity: O(n) auxiliary\n",
        "\n",
        "---\n",
        "---\n"
      ],
      "metadata": {
        "id": "ZU2qXcmKkWMD"
      }
    },
    {
      "cell_type": "markdown",
      "source": [
        "# Heap Sort\n",
        "\n",
        "Heap Sort is a comparison-based sorting algorithm and is part of the selection sort family. It has a more favorable worst-case runtime of O(n log n) compared to other sorting algorithms like Quick Sort. However, it might be slower in practice on some machines compared to an efficient Quick Sort implementation. Heap Sort is an in-place algorithm, but it's not stable.\n",
        "\n",
        "**Performance:**\n",
        "- Worst-case performance: O(n log n)\n",
        "- Best-case performance: O(n log n)\n",
        "- Average-case performance: O(n log n)\n",
        "- Worst-case space complexity: O(n) total, O(1) auxiliary\n",
        "\n",
        "\n"
      ],
      "metadata": {
        "id": "c282368lkdkN"
      }
    },
    {
      "cell_type": "code",
      "source": [
        "# Function to heapify a subtree rooted at index 'i'.\n",
        "# 'n' is the size of the heap and 'i' is the index of the root.\n",
        "def heapify(arr, n, i):\n",
        "    largest = i  # Initialize the largest element as the root\n",
        "    left = 2 * i + 1  # Left child\n",
        "    right = 2 * i + 2  # Right child\n",
        "\n",
        "    # If the left child exists and is larger than the root, update the largest element\n",
        "    if left < n and arr[left] > arr[largest]:\n",
        "        largest = left\n",
        "\n",
        "    # If the right child exists and is larger than the largest element so far, update the largest element\n",
        "    if right < n and arr[right] > arr[largest]:\n",
        "        largest = right\n",
        "\n",
        "    # If the largest element is not the root, swap them and recursively heapify the affected subtree\n",
        "    if largest != i:\n",
        "        arr[i], arr[largest] = arr[largest], arr[i]  # Swap\n",
        "        heapify(arr, n, largest)\n",
        "\n",
        "# The main function to sort an array using Heap Sort\n",
        "def heapSort(arr):\n",
        "    n = len(arr)\n",
        "\n",
        "    # Build a max-heap\n",
        "    # Starting from the last non-leaf node (n // 2 - 1) and moving to the root\n",
        "    for i in range(n // 2 - 1, -1, -1):\n",
        "        heapify(arr, n, i)\n",
        "\n",
        "    # Extract elements one by one from the heap and place them at the end of the array\n",
        "    for i in range(n - 1, 0, -1):\n",
        "        arr[i], arr[0] = arr[0], arr[i]  # Swap the root (largest element) with the last element\n",
        "        heapify(arr, i, 0)  # Call heapify on the reduced heap\n",
        "\n",
        "# Example usage:\n",
        "arr = [12, 11, 13, 5, 6, 7]\n",
        "heapSort(arr)\n",
        "print(\"Sorted array is:\", arr)\n"
      ],
      "metadata": {
        "id": "ImR2Iz9lkymE"
      },
      "execution_count": null,
      "outputs": []
    },
    {
      "cell_type": "markdown",
      "source": [
        "---\n",
        "---\n"
      ],
      "metadata": {
        "id": "4T88DfumlHHC"
      }
    },
    {
      "cell_type": "markdown",
      "source": [
        "# Quick Sort\n",
        "\n",
        "- Quick Sort is an example of a divide-and-conquer algorithmic technique and is one of the most well-known sorting algorithms among comparison-based sorting algorithms. Here's a quick overview of how it works:\n",
        "\n",
        "- **Divide**: The array A[low..high] is divided into two non-empty sub-arrays A[low...q] and A[q + 1...high], ensuring that each element of A[low...high] is less than or equal to each element of A[q + 1...high]. The index q is computed as part of the partitioning procedure.\n",
        "\n",
        "- **Conquer**: The two sub-arrays A[low...q] and A[q + 1...high] are sorted using recursive calls to Quick Sort.\n",
        "\n",
        "\n",
        "\n"
      ],
      "metadata": {
        "id": "nff_x_m-kyva"
      }
    },
    {
      "cell_type": "code",
      "source": [
        "import random\n",
        "\n",
        "def QuickSort(A, low, high):\n",
        "    if low < high:\n",
        "        pivot = Partition(A, low, high)\n",
        "        QuickSort(A, low, pivot - 1)\n",
        "        QuickSort(A, pivot + 1, high)\n",
        "\n",
        "def Partition(A, low, high):\n",
        "    pivot = low\n",
        "    swap(A, pivot, high)\n",
        "    for i in range(low, high):\n",
        "        if A[i] <= A[high]:\n",
        "            swap(A, i, low)\n",
        "            low += 1\n",
        "    swap(A, low, high)\n",
        "    return low\n",
        "\n",
        "def swap(A, x, y):\n",
        "    temp = A[x]\n",
        "    A[x] = A[y]\n",
        "    A[y] = temp\n",
        "\n",
        "A = [534, 246, 933, 127, 277, 321, 454, 565, 220]\n",
        "QuickSort(A, 0, len(A) - 1)\n",
        "print(A)"
      ],
      "metadata": {
        "id": "iW4enWSIk0zQ"
      },
      "execution_count": null,
      "outputs": []
    },
    {
      "cell_type": "markdown",
      "source": [
        "**Analysis:**\n",
        "\n",
        "- The worst-case time complexity of Quick Sort is O(n^2). It occurs when the list is already sorted, and the last element is chosen as the pivot.\n",
        "- The best-case time complexity is O(n log n) when each partition splits the array into two halves.\n",
        "- The average-case time complexity is also O(n log n). Quick Sort is considered efficient in practice.\n",
        "- The worst-case space complexity is O(log n) for the recursion stack.\n",
        "\n",
        "---\n"
      ],
      "metadata": {
        "id": "MpfKHrNpk3FB"
      }
    },
    {
      "cell_type": "markdown",
      "source": [
        "## **Randomized Quick Sort:**\n",
        "\n",
        "In the randomized version of Quick Sort, we choose the pivot element randomly from the subarray A[low..high] instead of always using A[low] as the pivot. This randomization helps in avoiding the worst-case behavior by ensuring a reasonably balanced split of the input array on average.\n",
        "\n",
        "Randomized Quick Sort has an expected time complexity of O(n log n), making it a better choice in practice compared to the non-randomized Quick Sort.\n",
        "\n",
        "Randomized Quick Sort can be further improved by choosing the pivot more carefully, for example, by selecting the median of three randomly chosen elements from the array.\n",
        "\n",
        "---\n",
        "---\n"
      ],
      "metadata": {
        "id": "qbHrWGZNk3-j"
      }
    },
    {
      "cell_type": "code",
      "source": [
        "import random\n",
        "\n",
        "# Function to partition the array using a random pivot element\n",
        "def partition(arr, low, high):\n",
        "    # Choose a random pivot element and swap it with the first element\n",
        "    pivot_index = random.randint(low, high)\n",
        "    arr[pivot_index], arr[low] = arr[low], arr[pivot_index]\n",
        "\n",
        "    pivot = arr[low]\n",
        "    i = low + 1\n",
        "\n",
        "    for j in range(low + 1, high + 1):\n",
        "        if arr[j] <= pivot:\n",
        "            arr[i], arr[j] = arr[j], arr[i]\n",
        "            i += 1\n",
        "\n",
        "    arr[low], arr[i - 1] = arr[i - 1], arr[low]\n",
        "    return i - 1\n",
        "\n",
        "# Function to perform Randomized Quick Sort\n",
        "def quickSort(arr, low, high):\n",
        "    if low < high:\n",
        "        # Partition the array and get the pivot index\n",
        "        pivot_index = partition(arr, low, high)\n",
        "\n",
        "        # Recursively sort elements before and after the pivot\n",
        "        quickSort(arr, low, pivot_index - 1)\n",
        "        quickSort(arr, pivot_index + 1, high)\n",
        "\n",
        "# Example usage:\n",
        "arr = [12, 11, 13, 5, 6, 7]\n",
        "quickSort(arr, 0, len(arr) - 1)\n",
        "print(\"Sorted array is:\", arr)\n"
      ],
      "metadata": {
        "id": "VWU_f4tSlj34"
      },
      "execution_count": null,
      "outputs": []
    },
    {
      "cell_type": "markdown",
      "source": [
        "---\n",
        "---\n"
      ],
      "metadata": {
        "id": "pj8hV90sl4ss"
      }
    },
    {
      "cell_type": "markdown",
      "source": [
        "# Tree Sort\n",
        "\n",
        "Tree Sort is a simple sorting algorithm that uses a binary search tree. It follows two main phases:\n",
        "\n",
        "1. **Creation of a Binary Search Tree:** In this phase, each element from the input is scanned and placed into its proper position in a binary search tree.\n",
        "\n",
        "2. **Traversing the Binary Search Tree in Inorder:** After constructing the binary search tree, the algorithm traverses the tree in an inorder fashion, which results in a sorted array.\n",
        "\n",
        "## Performance\n",
        "\n",
        "The average number of comparisons for Tree Sort is O(n log n). However, in the worst case scenario, where the binary search tree becomes a skewed tree, the number of comparisons can be as high as O(n²). Hence, the performance of Tree Sort depends on the balance of the binary search tree."
      ],
      "metadata": {
        "id": "vgLupLRpliZo"
      }
    },
    {
      "cell_type": "code",
      "source": [
        "# Define a TreeNode class to represent a node in a binary search tree\n",
        "class TreeNode:\n",
        "    def __init__(self, key):\n",
        "        self.left = None\n",
        "        self.right = None\n",
        "        self.val = key\n",
        "\n",
        "# Function to insert a node into the binary search tree\n",
        "def insert(root, key):\n",
        "    if root is None:\n",
        "        return TreeNode(key)\n",
        "    else:\n",
        "        if key < root.val:\n",
        "            root.left = insert(root.left, key)\n",
        "        else:\n",
        "            root.right = insert(root.right, key)\n",
        "    return root\n",
        "\n",
        "# Function for in-order traversal of the binary search tree\n",
        "def inOrderTraversal(root, result):\n",
        "    if root:\n",
        "        inOrderTraversal(root.left, result)\n",
        "        result.append(root.val)\n",
        "        inOrderTraversal(root.right, result)\n",
        "\n",
        "# Tree Sort function\n",
        "def treeSort(arr):\n",
        "    root = None\n",
        "    result = []\n",
        "\n",
        "    # Insert each element from the input array into the binary search tree\n",
        "    for item in arr:\n",
        "        root = insert(root, item)\n",
        "\n",
        "    # Perform in-order traversal to get the sorted elements\n",
        "    inOrderTraversal(root, result)\n",
        "    return result\n",
        "\n",
        "# Example usage:\n",
        "arr = [12, 4, 5, 6, 2, 9, 8, 15]\n",
        "sorted_array = treeSort(arr)\n",
        "print(\"Sorted array is:\", sorted_array)\n"
      ],
      "metadata": {
        "id": "aPIThmgbk8QU"
      },
      "execution_count": null,
      "outputs": []
    },
    {
      "cell_type": "markdown",
      "source": [
        "---\n",
        "---"
      ],
      "metadata": {
        "id": "vLhZd_Fjl2Yh"
      }
    },
    {
      "cell_type": "markdown",
      "source": [
        "# Comparison table for various sorting algorithms\n",
        "\n",
        "\n",
        "| Name        | Average      | Worst Case   | Auxiliary Memory | Stable? | Other Notes                                        |\n",
        "|-------------|--------------|--------------|------------------|---------|---------------------------------------------------|\n",
        "| Bubble      | O(n^2)       | O(n^2)       | Yes              | Yes     | Small code                                        |\n",
        "| Selection   | O(n^2)       | O(n^2)       | No               | No      | -                                                 |\n",
        "| Insertion   | O(n^2)       | O(n^2)       | Yes              | Yes     | Stability depends on the implementation.         |\n",
        "| Shell       | O(n*log n)   | O(n*log n)   | No               | No      | -                                                 |\n",
        "| Merge sort  | O(n*log n)   | O(n*log n)   | Yes              | Yes     | -                                                 |\n",
        "| Heap sort   | O(n*log n)   | O(n*log n)   | Yes              | No      | -                                                 |\n",
        "| Quick sort  | O(n*log n)   | O(n^2)       | Depends          | Can be  | Can be implemented as a stable sort depending on|\n",
        "|             |              |              |                  | stable  | how the pivot is handled.                       |\n",
        "| Tree sort   | O(n*log n)   | O(n^2)       | No               | Depends | Can be implemented as a stable sort.            |\n",
        "\n",
        "Note:\n",
        "- \"n\" denotes the number of elements in the input.\n",
        "- \"Auxiliary Memory\" refers to additional memory used by the algorithm.\n",
        "- \"Stable\" indicates whether the algorithm preserves the relative order of equal elements.\n",
        "- Additional notes provide some extra information about each sorting algorithm.\n",
        "\n",
        "Please note that the actual performance of these algorithms may vary depending on various factors, including the specific implementation and the characteristics of the input data.\n",
        "\n",
        "---\n",
        "---\n"
      ],
      "metadata": {
        "id": "RIrOBlNplmqB"
      }
    },
    {
      "cell_type": "code",
      "source": [],
      "metadata": {
        "id": "JvPbGwzbmNgZ"
      },
      "execution_count": null,
      "outputs": []
    }
  ]
}