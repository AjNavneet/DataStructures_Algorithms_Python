{
  "nbformat": 4,
  "nbformat_minor": 0,
  "metadata": {
    "colab": {
      "provenance": []
    },
    "kernelspec": {
      "name": "python3",
      "display_name": "Python 3"
    },
    "language_info": {
      "name": "python"
    }
  },
  "cells": [
    {
      "cell_type": "markdown",
      "source": [
        "# Circular Linked Lists\n",
        "\n",
        "- In standard singly and doubly linked lists, the list ends are marked with a NULL value. However, circular linked lists are different. They don't have an end; they form a loop. When traversing a circular linked list, caution is needed to avoid endless traversal. In this type of list, every node has a successor, and unlike singly linked lists, there's no node with a NULL pointer.\n",
        "\n",
        "- Circular linked lists find applications in specific situations. One common use case is in managing processes that share a computer resource, such as the CPU, for equal durations (using a round-robin algorithm). Circular linked lists are particularly handy for such scenarios.\n",
        "\n",
        "- The declaration of nodes in a circular linked list is similar to that of singly linked lists. Here's an example of a type declaration for a circular linked list:\n",
        "\n",
        "  - In a circular linked list, we access the elements using the head node (similar to head node in singly linked list a nd doubly linked Lists)."
      ],
      "metadata": {
        "id": "D8aAv5NNH3Lv"
      }
    },
    {
      "cell_type": "code",
      "source": [
        "class Node:\n",
        "    # Constructor\n",
        "    def __init__(self, data=None):\n",
        "        self.data = data\n",
        "        self.next = None\n",
        "\n",
        "    # Method for setting the data field of the node\n",
        "    def setData(self, data):\n",
        "        self.data = data\n",
        "\n",
        "    # Method for getting the data field of the node\n",
        "    def getData(self):\n",
        "        return self.data\n",
        "\n",
        "    # Method for setting the next field of the node\n",
        "    def setNext(self, next_node):\n",
        "        self.next = next_node\n",
        "\n",
        "    # Method for getting the next field of the node\n",
        "    def getNext(self):\n",
        "        return self.next\n",
        "\n",
        "    # Returns True if the node points to another node\n",
        "    def hasNext(self):\n",
        "        return self.next is not None\n"
      ],
      "metadata": {
        "id": "crM6XwX8O3yN"
      },
      "execution_count": null,
      "outputs": []
    },
    {
      "cell_type": "markdown",
      "source": [
        "## Counting Nodes in a Circular List\n",
        "\n",
        "In a circular list, you can count the nodes by starting from the \"head\" node and moving through the list until you reach the starting node again. Here's a step-by-step explanation of how to count the nodes:\n",
        "\n",
        "- The circular list is accessible through the \"head\" node.\n",
        "- To count the nodes, you begin at the \"head\" node and use a dummy node called \"current\" to help you traverse the list.\n",
        "- You stop counting when \"current\" reaches the starting node, which is the \"head.\"\n",
        "\n",
        "Here's a Python method for counting nodes in a circular list. This method would typically be a member of another class, such as \"CircularList\":\n",
        "\n",
        "\n"
      ],
      "metadata": {
        "id": "_Lh3K9dnO-mH"
      }
    },
    {
      "cell_type": "code",
      "source": [
        "def circularListLength(self):\n",
        "    currentNode = self.head\n",
        "\n",
        "    # If the list is empty (head is None), set count to 0\n",
        "    if currentNode is None:\n",
        "        return 0\n",
        "\n",
        "    count = 1\n",
        "    currentNode = currentNode.getNext()\n",
        "\n",
        "    while currentNode != self.head:\n",
        "        currentNode = currentNode.getNext()\n",
        "        count += 1\n",
        "\n",
        "    return count"
      ],
      "metadata": {
        "id": "L03Dw_-4PKYV"
      },
      "execution_count": null,
      "outputs": []
    },
    {
      "cell_type": "markdown",
      "source": [
        "**Time Complexity:** O(n) - This method scans the complete list, which has a size of \"n.\"\n",
        "\n",
        "**Space Complexity:** O(1) - It uses a temporary variable for counting, and the space required is constant.\n",
        "\n",
        "---\n"
      ],
      "metadata": {
        "id": "nhSOLIO7POs2"
      }
    },
    {
      "cell_type": "markdown",
      "source": [
        "## Printing the Contents of a Circular List\n",
        "\n",
        "When you want to print the contents of a circular list starting from the head node, you can follow a simple process. Here's a straightforward explanation:\n",
        "\n",
        "- Start from the head node.\n",
        "- Print the contents of the current node.\n",
        "- Move to the next node and continue printing.\n",
        "- Keep printing until you reach the head node again.\n",
        "\n",
        "Below is a Python method for printing the contents of a circular list. This method is designed to be part of a class, typically named \"CircularList\":\n",
        "\n",
        "\n"
      ],
      "metadata": {
        "id": "GdnWo1NcPRQJ"
      }
    },
    {
      "cell_type": "code",
      "source": [
        "def printCircularList(self):\n",
        "    currentNode = self.head\n",
        "\n",
        "    # If the list is empty (head is None), there's nothing to print.\n",
        "    if currentNode is None:\n",
        "        return\n",
        "\n",
        "    print(currentNode.getData())\n",
        "    currentNode = currentNode.getNext()\n",
        "\n",
        "    while currentNode != self.head:\n",
        "        print(currentNode.getData())\n",
        "        currentNode = currentNode.getNext()"
      ],
      "metadata": {
        "id": "UisGZUuoPPzx"
      },
      "execution_count": null,
      "outputs": []
    },
    {
      "cell_type": "markdown",
      "source": [
        "**Time Complexity:** O(n) - This method scans the entire list, which has a size of \"n.\"\n",
        "\n",
        "**Space Complexity:** O(1) - It uses a temporary variable for traversing the list, and the space required remains constant.\n",
        "\n",
        "---\n"
      ],
      "metadata": {
        "id": "t7QBEdYDPfzY"
      }
    },
    {
      "cell_type": "markdown",
      "source": [
        "## Inserting a Node at the End of a Circular Linked List\n",
        "\n",
        "To insert a new node at the end of a circular linked list headed by \"head,\" follow these steps:\n",
        "\n",
        "1. Create a new node containing the desired data.\n",
        "2. Initially, set the new node's \"next\" pointer to point to itself.\n",
        "\n",
        "---\n",
        "\n",
        "Here's a visual representation of the process:\n",
        "\n",
        "**Step 1:** Create a new node with the desired data.\n",
        "\n",
        "```\n",
        "15 -> 40\n",
        "Head\n",
        "New Node (Data: X)\n",
        "```\n",
        "\n",
        "**Step 2:** Update the \"next\" pointer of the new node to point to the head node, making it circular.\n",
        "\n",
        "```\n",
        "15 -> 40\n",
        "Head\n",
        "New Node (Data: X)\n",
        "↓\n",
        "```\n",
        "\n",
        "**Step 3:** Traverse the list to find the previous node of the head (the current tail of the list). In a circular list, this is the node whose \"next\" node is the head.\n",
        "\n",
        "```\n",
        "15 -> 40\n",
        "Head\n",
        "New Node (Data: X)\n",
        "↓\n",
        "Tail (Previous node of Head)\n",
        "```\n",
        "\n",
        "**Step 4:** Update the \"next\" pointer of the previous node (tail) to point to the new node, completing the insertion.\n",
        "\n",
        "```\n",
        "15 -> 40\n",
        "Head\n",
        "New Node (Data: X)\n",
        "↑\n",
        "Tail (Previous node of Head)\n",
        "```\n",
        "\n",
        "Now, the new node is successfully inserted at the end of the circular linked list. The list remains circular, and the new node becomes the new tail node."
      ],
      "metadata": {
        "id": "RYESIs4IPhMu"
      }
    },
    {
      "cell_type": "code",
      "source": [
        "def insertAtEndInCLL(self, data):\n",
        "    current = self.head  # Start from the head node\n",
        "    newNode = Node()     # Create a new node\n",
        "    newNode.setData(data)  # Set the data for the new node\n",
        "\n",
        "    # Check if the list is empty (head is None)\n",
        "    if self.head is None:\n",
        "        self.head = newNode  # Set the head to the new node\n",
        "        newNode.setNext(self.head)  # Make it circular by pointing to itself\n",
        "    else:\n",
        "        while current.getNext() != self.head:\n",
        "            current = current.getNext()  # Traverse the list to find the tail node\n",
        "        newNode.setNext(self.head)  # Connect the new node to the head (making it circular)\n",
        "        current.setNext(newNode)  # Update the current tail to point to the new node\n"
      ],
      "metadata": {
        "id": "EET7QBWWPgxx"
      },
      "execution_count": null,
      "outputs": []
    },
    {
      "cell_type": "markdown",
      "source": [
        "## Time and Space Complexity:\n",
        "\n",
        "- **Time Complexity:** O(n)\n",
        "\n",
        "- **Space Complexity:** O(1)\n",
        "\n",
        "---\n"
      ],
      "metadata": {
        "id": "ZUA2D0W5QICu"
      }
    },
    {
      "cell_type": "markdown",
      "source": [
        "**Inserting a Node at the Front of a Circular Linked List**\n",
        "\n",
        "To insert a node at the front of a circular linked list, follow these steps:\n",
        "\n",
        "1. Create a new node containing the desired data.\n",
        "2. Initially, set the new node's \"next\" pointer to point to itself.\n",
        "\n",
        "---\n",
        "\n",
        "Visual representation of inserting a node at the front of a circular linked list:\n",
        "\n",
        "**Step 1:** Create a new node with the desired data.\n",
        "\n",
        "```\n",
        "40\n",
        "Data\n",
        "New Node\n",
        "Head\n",
        "```\n",
        "\n",
        "**Step 2:** Initially, set the new node's \"next\" pointer to point to itself, making it circular.\n",
        "\n",
        "```\n",
        "40\n",
        "Data\n",
        "New Node (points to itself)\n",
        "Head\n",
        "```\n",
        "\n",
        "**Step 3:** Update the \"next\" pointer of the new node to point to the current head node, making the new node the new head.\n",
        "\n",
        "```\n",
        "40\n",
        "Data\n",
        "New Node (points to Head)\n",
        "Head\n",
        "```\n",
        "\n",
        "**Step 4:** Finally, update the previous head node's \"next\" pointer to point to the new node.\n",
        "\n",
        "```\n",
        "40\n",
        "Data\n",
        "Head (points to New Node)\n",
        "New Node\n",
        "```\n",
        "\n",
        "Now, the new node is successfully inserted at the front of the circular linked list, and it becomes the new head. The circular structure is maintained, and the list is updated accordingly.\n",
        "\n",
        "---\n"
      ],
      "metadata": {
        "id": "7xf-q_ORQQly"
      }
    },
    {
      "cell_type": "code",
      "source": [
        "def insertAtBeginInCLL(self, data):\n",
        "    current = self.head\n",
        "    newNode = Node()  # Create a new node\n",
        "    newNode.setData(data)\n",
        "\n",
        "    while current.getNext() != self.head:\n",
        "        current = current.getNext()\n",
        "\n",
        "    newNode.setNext(self.head)  # Update the new node's \"next\" pointer to the current head\n",
        "\n",
        "    if self.head is None:  # If the list is empty, set the head to the new node\n",
        "        self.head = newNode\n",
        "        newNode.setNext(self.head)  # Make it circular by pointing to itself\n",
        "    else:\n",
        "        newNode.setNext(self.head)  # Connect the new node to the circular structure\n",
        "        current.setNext(newNode)  # Update the previous head's \"next\" to point to the new node\n",
        "        self.head = newNode  # Update the head to the new node\n"
      ],
      "metadata": {
        "id": "rFYfqalGQO7s"
      },
      "execution_count": null,
      "outputs": []
    },
    {
      "cell_type": "markdown",
      "source": [
        "## Time and Space Complexity:\n",
        "\n",
        "- **Time Complexity:** O(n) -\n",
        "\n",
        "- **Space Complexity:** O(1) -\n",
        "\n",
        "---\n"
      ],
      "metadata": {
        "id": "rglnvMU2QwEH"
      }
    },
    {
      "cell_type": "markdown",
      "source": [
        "**Deleting the Last Node in a Circular List**\n",
        "\n",
        "To delete the last node in a circular list, follow these steps:\n",
        "\n",
        "1. Traverse the list to reach the last-but-one node. This node will be named the \"tail\" node.\n",
        "2. Update the \"next\" field of the tail node to point to the first node, making it the new tail.\n",
        "3. Dispose of the old tail node.\n",
        "\n",
        "---\n",
        "\n",
        "Visual representation of deleting the last node in a circular list:\n",
        "\n",
        "**Step 1:** Traverse the list to find the last-but-one node (the previous tail) and the node to be deleted.\n",
        "\n",
        "```\n",
        "60 -> 15 -> 40\n",
        "Previous Node (to be deleted) -> Node to be Deleted\n",
        "Head\n",
        "```\n",
        "\n",
        "**Step 2:** Update the \"next\" pointer of the previous tail node to point to the head, effectively making it the new tail.\n",
        "\n",
        "```\n",
        "60 -> 15\n",
        "Previous Node\n",
        "Head\n",
        "↓\n",
        "```\n",
        "\n",
        "**Step 3:** Dispose of the old tail node.\n",
        "\n",
        "```\n",
        "60 -> 15\n",
        "Previous Node (New Tail)\n",
        "Head\n",
        "```\n",
        "\n",
        "Now, the last node (40) has been successfully deleted from the circular list. The circular structure is maintained, and the list is updated accordingly.\n",
        "\n",
        "---\n",
        "\n"
      ],
      "metadata": {
        "id": "VnD2SEGOQ4cz"
      }
    },
    {
      "cell_type": "code",
      "source": [
        "def deleteLastNodeFromCLL(self):\n",
        "    temp = self.head  # Initialize a temporary node as a reference to the head\n",
        "    current = self.head  # Start traversal from the head\n",
        "\n",
        "    if self.head is None:  # Check if the list is empty\n",
        "        print(\"List Empty\")\n",
        "        return\n",
        "\n",
        "    while current.getNext() != self.head:  # Traverse the list until you find the last-but-one node\n",
        "        temp = current  # Move the temporary node to the current node\n",
        "        current = current.getNext()  # Move to the next node\n",
        "\n",
        "    temp.setNext(self.head)  # Update the \"next\" pointer of the previous node to point to the head\n"
      ],
      "metadata": {
        "id": "ocfuSfZmRS9s"
      },
      "execution_count": null,
      "outputs": []
    },
    {
      "cell_type": "markdown",
      "source": [
        "## Time and Space Complexity:\n",
        "\n",
        "- **Time Complexity:** O(n)\n",
        "\n",
        "- **Space Complexity:** O(1)\n",
        "\n",
        "---\n"
      ],
      "metadata": {
        "id": "WD7HDAWXRMLl"
      }
    },
    {
      "cell_type": "markdown",
      "source": [
        "**Deleting the First Node in a Circular List**\n",
        "\n",
        "To delete the first node in a circular list, follow these steps:\n",
        "\n",
        "- Find the tail node of the linked list by traversing the list. The tail node is the previous node to the head node that you want to delete.\n",
        "- Create a temporary node that will point to the head. Update the tail node's \"next\" pointer to point to the next node of the head.\n",
        "- Move the head pointer to the next node. Create a temporary node that will point to the head. Also, update the tail node's \"next\" pointer to point to the next node of the head.\n",
        "\n",
        "---\n",
        "\n",
        "Visual representation of deleting the first node in a circular list:\n",
        "\n",
        "**Step 1:** Find the tail node by traversing the list.\n",
        "\n",
        "```\n",
        "60 -> 5 -> 40\n",
        "Node to be Deleted\n",
        "Previous Node (to be deleted)\n",
        "Head\n",
        "```\n",
        "\n",
        "**Step 2:** Create a temporary node (Temp) that points to the head. Update the tail node's \"next\" pointer to point to the next node of the head, effectively removing the first node.\n",
        "\n",
        "```\n",
        "60 -> 40\n",
        "Node to be Deleted\n",
        "Previous Node (to be deleted)\n",
        "Head\n",
        "Temp (points to Head)\n",
        "```\n",
        "\n",
        "**Step 3:** Move the head pointer to the next node. Create a temporary node (Temp) that points to the head. Update the tail node's \"next\" pointer.\n",
        "\n",
        "```\n",
        "15 -> 40\n",
        "Node to be Deleted\n",
        "Previous Node (to be deleted)\n",
        "Head\n",
        "Temp (points to Head)\n",
        "```\n",
        "\n",
        "Now, the first node (60) has been successfully deleted from the circular list. The circular structure is maintained, and the list is updated accordingly."
      ],
      "metadata": {
        "id": "YiZSrljqRfUk"
      }
    },
    {
      "cell_type": "code",
      "source": [
        "def deleteFrontNodeFromCLL(self):\n",
        "    current = self.head  # Initialize a current node as a reference to the head\n",
        "\n",
        "    if self.head is None:  # Check if the list is empty\n",
        "        print(\"List Empty\")\n",
        "        return\n",
        "\n",
        "    while current.getNext() != self.head:  # Traverse the list until you find the last node\n",
        "        current = current.getNext()\n",
        "\n",
        "    current.setNext(self.head.getNext())  # Update the \"next\" pointer of the current tail node to the second node\n",
        "\n",
        "    self.head = self.head.getNext()  # Update the head to point to the second node\n"
      ],
      "metadata": {
        "id": "b6Us5nLXQ3_A"
      },
      "execution_count": null,
      "outputs": []
    },
    {
      "cell_type": "markdown",
      "source": [
        "**Time and Space Complexity:**\n",
        "\n",
        "- **Time Complexity:** O(n)\n",
        "\n",
        "- **Space Complexity:** O(1)\n",
        "\n",
        "---\n"
      ],
      "metadata": {
        "id": "ZY-7Pt5aR6xW"
      }
    },
    {
      "cell_type": "code",
      "source": [],
      "metadata": {
        "id": "w-Ex0rnRSFre"
      },
      "execution_count": null,
      "outputs": []
    }
  ]
}