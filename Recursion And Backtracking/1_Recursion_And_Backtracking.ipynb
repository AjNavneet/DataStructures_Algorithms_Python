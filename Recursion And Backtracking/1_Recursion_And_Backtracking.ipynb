{
  "nbformat": 4,
  "nbformat_minor": 0,
  "metadata": {
    "colab": {
      "provenance": []
    },
    "kernelspec": {
      "name": "python3",
      "display_name": "Python 3"
    },
    "language_info": {
      "name": "python"
    }
  },
  "cells": [
    {
      "cell_type": "markdown",
      "source": [
        "# What is Recursion?\n",
        "\n",
        "Recursion is a simple concept in programming. It's like a function that talks to itself! When a function calls itself, we say it's recursive. This recursive method helps solve a problem by creating smaller versions of the same problem and solving them. This is known as the recursion step. This process can lead to more recursive calls.\n",
        "\n",
        "- But here's the catch: We must make sure that the recursion doesn't go on forever. Each time the function calls itself, it should deal with a slightly simpler problem. The sequence of these smaller problems should eventually reach a simple, final case.\n",
        "\n",
        "---"
      ],
      "metadata": {
        "id": "jf7FqC60_axR"
      }
    },
    {
      "cell_type": "markdown",
      "source": [
        "## Why Use Recursion?\n",
        "\n",
        "- Recursion is a handy technique borrowed from math. What's great about recursive code is that it's usually shorter and easier to write than the alternative, which is iterative code. Typically, when our code is compiled or interpreted, loops can be transformed into recursive functions.\n",
        "\n",
        "- Recursion shines when we're dealing with problems that can be broken down into similar subproblems. For instance, sorting, searching, and traversing problems often have elegant and straightforward recursive solutions.\n",
        "\n",
        "---\n"
      ],
      "metadata": {
        "id": "0fDLBEu8_p9c"
      }
    },
    {
      "cell_type": "markdown",
      "source": [
        "## Format of a Recursive Function\n",
        "\n",
        "A recursive function is like a multi-step journey that involves calling itself to complete subtasks.\n",
        "  - Eventually, the function reaches a point where it can do a task without calling itself. This is the base case.\n",
        "  - The earlier part, where the function calls itself for a subtask, is called the recursive case.\n",
        "  - We can lay out all recursive functions like this:\n",
        "\n",
        "    ```python\n",
        "    if (test for the base case):\n",
        "        return some base case value\n",
        "    else if (test for another base case):\n",
        "        return some other base case value\n",
        "    # the recursive case\n",
        "    else:\n",
        "        return (do some work and then a recursive call)\n",
        "    ```\n",
        "\n",
        "  ---\n",
        "\n",
        "- Consider the example of the factorial function: n! represents the product of all integers from n down to 1. The recursive definition of factorial looks like this:\n",
        "\n",
        "    - n! = 1 if n = 0\n",
        "    - n! = n * (n - 1)! if n > 0\n",
        "\n",
        "- This definition can be transformed into a recursive implementation.\n",
        "  - Here, the main problem is finding the value of n!, and the subproblem is determining the value of (n - 1)!.\n",
        "  - In the recursive case, when n is greater than 1, the function calls itself to find the value of (n - 1)! and then multiplies it by n.\n",
        "\n",
        "- In the base case, when n is 0 or 1, the function simply returns 1. This translates into the following code:\n",
        "\n",
        "  - This function computes the factorial of a given positive integer, following the recursive structure we discussed."
      ],
      "metadata": {
        "id": "1ZQ7u4TC_r4Y"
      }
    },
    {
      "cell_type": "code",
      "source": [
        "# calculates the factorial of a positive integer\n",
        "def factorial(n):\n",
        "    if n == 0:\n",
        "        return 1\n",
        "    return n * factorial(n - 1)\n",
        "\n",
        "print(factorial(6))"
      ],
      "metadata": {
        "colab": {
          "base_uri": "https://localhost:8080/"
        },
        "id": "Q_U6_g9z_nTh",
        "outputId": "bd61c6bd-a869-4c53-8e1e-57f825f3f6e2"
      },
      "execution_count": null,
      "outputs": [
        {
          "output_type": "stream",
          "name": "stdout",
          "text": [
            "720\n"
          ]
        }
      ]
    },
    {
      "cell_type": "markdown",
      "source": [
        "## Recursion and Memory Visualization\n",
        "\n",
        "- When a recursive function is called, it creates a new copy of itself in memory, preserving the variables' values.\n",
        "\n",
        "- After the function completes (returns a result), that particular copy of the function is removed from memory.\n",
        "\n",
        "- To better understand how this works, let's consider an example:\n",
        "\n",
        "  ```python\n",
        "  def Print(n):\n",
        "      if n == 0:  # This is the terminating base case\n",
        "          return 0\n",
        "      else:\n",
        "          print(n)\n",
        "          return Print(n - 1)  # Recursive call to itself again\n",
        "\n",
        "  print(Print(4))\n",
        "  ```\n",
        "\n",
        "- If we call the `Print` function with `n = 4`, the memory assignments might look something like this:\n",
        "```\n",
        "    - `Print(4)`\n",
        "    - `Print(3)`\n",
        "    - `Print(2)`\n",
        "      - `Returns 0`\n",
        "    - `Print(1)`\n",
        "      - `Returns 0`\n",
        "    - `Print(0)`\n",
        "      - `Returns 0`\n",
        "    - `Returns 0 to the main function`\n",
        "```\n",
        "  ---\n",
        "\n",
        "- Now, let's consider the visualization of the factorial function with `n = 4`:\n",
        "\n",
        "```\n",
        "- `4 * 3!`\n",
        "  - `3 * 2!`\n",
        "    - `2 * 1!`\n",
        "      - `Returns 1`\n",
        "    - `Returns 2`\n",
        "  - `Returns 6`\n",
        "- `Returns 24 to the main function`\n",
        "```\n",
        "\n",
        "- In this visualization, you can see how each recursive call to the factorial function creates a stack of function calls in memory, with each call preserving its variables until it reaches the base case and starts returning values.\n",
        "  - The final result (in this case, 24) is gradually computed and returned back through the chain of function calls.\n",
        "\n",
        "\n",
        "\n",
        "---"
      ],
      "metadata": {
        "id": "5pLn-pcUAkG3"
      }
    },
    {
      "cell_type": "markdown",
      "source": [
        "## Recursion versus Iteration\n",
        "\n",
        "When it comes to choosing between recursion and iteration, the decision depends on the specific problem you're trying to solve. Here's a comparison to help you decide:\n",
        "\n",
        "### Recursion:\n",
        "- Recursion mirrors the problem structure, making it a natural choice for solving problems that may not have obvious or straightforward solutions.\n",
        "- Recursive solutions can be more intuitive and easier to formulate for certain problems.\n",
        "- Recursion terminates when a base case is reached, ensuring that it doesn't continue indefinitely.\n",
        "\n",
        "However, there are some downsides to recursion:\n",
        "- Each recursive call consumes extra space on the stack frame, which can lead to increased memory usage.\n",
        "- If not managed properly, recursive functions can result in stack overflow errors, especially for deep or infinite recursion.\n",
        "\n",
        "### Iteration:\n",
        "- Iteration is a good choice when you have a well-defined condition to terminate the process.\n",
        "- Each iteration in an iterative solution does not require additional space on the stack, which can be memory-efficient.\n",
        "\n",
        "On the flip side:\n",
        "- Iterative solutions may not always be as apparent or intuitive as recursive ones, especially for problems that have a more natural recursive structure.\n",
        "\n",
        "\n",
        "\n",
        "---"
      ],
      "metadata": {
        "id": "zWMYtsboBB4R"
      }
    },
    {
      "cell_type": "markdown",
      "source": [
        "## Notes on Recursion\n",
        "\n",
        "Here are some important points to keep in mind when working with recursion:\n",
        "\n",
        "- Recursive algorithms typically consist of two types of cases: recursive cases and base cases.\n",
        "- Every recursive function must eventually reach a base case to terminate.\n",
        "- In general, iterative solutions tend to be more efficient than recursive solutions, mainly due to the overhead of function calls.\n",
        "- While a recursive algorithm can be implemented without actual recursive function calls using a stack, it is often more complex and less straightforward, so many problems that can be solved recursively can also be solved iteratively.\n",
        "- Some problems have no obvious iterative algorithms, making recursion a more suitable approach.\n",
        "- Certain problems are naturally well-suited for recursive solutions, while others may not be.\n",
        "\n",
        "---\n",
        "\n",
        "## Example Algorithms of Recursion\n",
        "\n",
        "Recursion is a powerful concept used in various algorithms and problem-solving techniques. Here are some examples of problems and algorithms where recursion is commonly applied:\n",
        "\n",
        "- Fibonacci Series\n",
        "- Factorial Calculation\n",
        "- Sorting Algorithms: Merge Sort and Quick Sort\n",
        "- Binary Search\n",
        "- Tree Traversals and Tree Problems: InOrder, PreOrder, PostOrder, and more\n",
        "- Graph Traversals: Depth First Search (DFS) and Breadth First Search (BFS)\n",
        "- Dynamic Programming Examples\n",
        "- Divide and Conquer Algorithms\n",
        "- Towers of Hanoi\n",
        "- Backtracking Algorithms (covered in the next section)\n",
        "\n",
        "These are just a few examples, and recursion can be a powerful tool in solving a wide range of problems across various domains in computer science and mathematics.\n",
        "\n",
        "---"
      ],
      "metadata": {
        "id": "V7SEHTn6BLNq"
      }
    },
    {
      "cell_type": "markdown",
      "source": [
        "## What is Backtracking?\n",
        "\n",
        "Backtracking is a specific form of recursion used for solving problems in which you need to make a series of choices from a set of options.\n",
        "- The choices you make determine the subsequent options available.\n",
        "\n",
        "- This process continues until you reach a final state, which can be either a successful goal state or an unsuccessful one.\n",
        "\n",
        "- Backtracking is a technique that falls under the category of exhaustive search and is often used for divide and conquer.\n",
        "\n",
        "- Key points about backtracking:\n",
        "\n",
        "  - In backtracking, you explore various possibilities and make choices as you move forward.\n",
        "\n",
        "  - The primary use of backtracking is in problems where trying all possibilities is a viable approach.\n",
        "\n",
        "  - This exhaustive search approach can be slow, but there are techniques and tools available to help optimize the process.\n",
        "\n",
        "  - These tools include algorithms for generating fundamental objects like binary strings, permutations, combinations, and general strings.\n",
        "\n",
        "  - Backtracking enhances the efficiency of the exhaustive search by pruning branches of the search tree that cannot lead to a solution.\n",
        "\n",
        "  ---\n",
        "\n",
        "## Example Algorithms of Backtracking\n",
        "\n",
        "Backtracking is commonly applied in various problem-solving scenarios. Here are some examples of problems and algorithms that utilize backtracking:\n",
        "\n",
        "- Generating All Binary Strings\n",
        "- Generating k-ary Strings\n",
        "- The Knapsack Problem\n",
        "- Generalized Strings\n",
        "- Hamiltonian Cycles (refer to the Graphs chapter)\n",
        "- Graph Coloring Problem\n",
        "\n",
        "Backtracking is a versatile technique that can be used in a wide range of problems, particularly in situations where you need to explore and evaluate multiple possibilities to find a solution.\n",
        "\n",
        "---"
      ],
      "metadata": {
        "id": "NXMD9VD-BTxZ"
      }
    },
    {
      "cell_type": "code",
      "source": [],
      "metadata": {
        "id": "1bpfzl17Aa0O"
      },
      "execution_count": null,
      "outputs": []
    }
  ]
}