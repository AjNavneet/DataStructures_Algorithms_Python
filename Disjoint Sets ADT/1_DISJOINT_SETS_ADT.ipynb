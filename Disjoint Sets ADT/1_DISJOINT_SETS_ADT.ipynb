{
  "nbformat": 4,
  "nbformat_minor": 0,
  "metadata": {
    "colab": {
      "provenance": []
    },
    "kernelspec": {
      "name": "python3",
      "display_name": "Python 3"
    },
    "language_info": {
      "name": "python"
    }
  },
  "cells": [
    {
      "cell_type": "markdown",
      "source": [
        "# Introduction\n",
        "\n",
        "In this chapter, we will explore an important mathematical concept: sets. Sets allow us to represent a collection of elements without a specific order. To achieve this, we use the Disjoint Sets Abstract Data Type (ADT), which is particularly useful for solving equivalence problems. The implementation of this ADT is straightforward, requiring only a simple array, and each function can be implemented with just a few lines of code.\n",
        "\n",
        "The Disjoint Sets ADT also serves as a foundational data structure for many other algorithms, such as Kruskal's algorithm in graph theory. Before delving into the details of the Disjoint Sets ADT, let's first review some basic properties of sets.\n",
        "\n",
        "---\n"
      ],
      "metadata": {
        "id": "jumhko-JRjeH"
      }
    },
    {
      "cell_type": "markdown",
      "source": [
        "## Equivalence Relations and Equivalence Classes\n",
        "\n",
        "We'll explore the concept of equivalence relations within a set, assuming that S contains the elements and a relation R is defined on it. The relation R can be either true or false for any pair of elements a and b in S. If a R b is true, we say that a is related to b; otherwise, a is not related to b. An equivalence relation is one that adheres to the following properties:\n",
        "\n",
        "- **Reflexive:** For every element a in S, a R a is true.\n",
        "- **Symmetric:** For any two elements a and b in S, if a R b is true, then b R a is also true.\n",
        "- **Transitive:** For any three elements a, b, and c in S, if a R b and b R c are true, then a R c is true.\n",
        "\n",
        "For example, relations like ≤ (less than or equal to) and ≥ (greater than or equal to) on a set of integers are not equivalence relations. They are reflexive and transitive but not symmetric.\n",
        "\n",
        "On the other hand, rail connectivity is an example of an equivalence relation. It's reflexive because any location is connected to itself. It's symmetric because if there's connectivity from city a to city b, there's also connectivity from city b to city a. Finally, it's transitive because if city a is connected to city b and city b is connected to city c, then city a is also connected to city c.\n",
        "\n",
        "The equivalence class of an element a in S is a subset of S that contains all the elements related to a. These equivalence classes create a partition of S, ensuring that every member of S appears in exactly one equivalence class. To determine if a is related to b (a R b), you need to check if they belong to the same equivalence class.\n",
        "\n",
        "Since the intersection of any two equivalence classes is empty (denoted as Ø), these classes are sometimes referred to as disjoint sets. In the following sections, we'll explore the operations that can be performed on equivalence classes, which include:\n",
        "\n",
        "- Creating an equivalence class (making a set)\n",
        "- Finding the name of the equivalence class (Find)\n",
        "- Combining equivalence classes (Union)\n",
        "\n",
        "\n",
        "---\n",
        "\n"
      ],
      "metadata": {
        "id": "ExCXkeq-RmII"
      }
    },
    {
      "cell_type": "markdown",
      "source": [
        "## Disjoint Sets ADT\n",
        "\n",
        "The Disjoint Sets Abstract Data Type (ADT) deals with the following set operations:\n",
        "\n",
        "- **MAKESET(X):** Creates a new set containing a single element X.\n",
        "- **UNION(X, Y):** Creates a new set that combines the elements X and Y, and removes the sets containing X and Y.\n",
        "- **FIND(X):** Retrieves the name of the set containing the element X.\n",
        "\n",
        "---\n",
        "\n",
        "## Applications\n",
        "\n",
        "The Disjoint Sets ADT finds applications in various areas, including:\n",
        "\n",
        "- Representing network connectivity.\n",
        "- Determining the least common ancestor.\n",
        "- Defining equivalence of finite state automata.\n",
        "- Implementing Kruskal's minimum spanning tree algorithm (used in graph theory).\n",
        "- Utilizing in game algorithms.\n"
      ],
      "metadata": {
        "id": "cE152dH3Rt8L"
      }
    },
    {
      "cell_type": "markdown",
      "source": [
        "## Tradeoffs in Implementing Disjoint Sets ADT\n",
        "\n",
        "Let's explore the possibilities for implementing disjoint set operations. Initially, we assume that the input elements are a collection of n sets, each containing one element. This initial representation assumes that all relations (except reflexive relations) are false. Each set has a different element, making them disjoint.\n",
        "\n",
        "To establish the relation a R b (using UNION), we first need to check whether a and b are already related. This can be determined by performing FIND operations on both a and b and checking if they belong to the same equivalence class (set).\n",
        "\n",
        "If they are not in the same class, we perform the UNION operation. This operation merges the two equivalence classes containing a and b into a new equivalence class by creating a new set Sk = S∪{a, b} and removing S1 and S2.\n",
        "\n",
        "There are two primary ways to implement the FIND and UNION operations effectively:\n",
        "\n",
        "- **Fast FIND implementation** (also known as Quick FIND).\n",
        "- **Fast UNION operation implementation** (also known as Quick UNION).\n"
      ],
      "metadata": {
        "id": "_vRFLhdsSAjX"
      }
    },
    {
      "cell_type": "markdown",
      "source": [
        "## Fast FIND Implementation (Quick FIND)\n",
        "\n",
        "In this method, we employ an array to represent sets. For simplicity, let's assume that all elements are sequentially numbered from 0 to n - 1. Each element in the array holds the set name it belongs to. For example, element 0 might have the set name 3, element 1 might have the set name 5, and so on.\n",
        "\n",
        "Set Name:\n",
        "```\n",
        "3 5 2 3\n",
        "2 n-2 n-1\n",
        "```\n",
        "\n",
        "With this representation, the FIND operation takes only O(1) time, as you can find the set name of any element by accessing its array location instantly.\n",
        "\n",
        "However, when performing UNION(a, b), where a is in set i and b is in set j, we need to scan the entire array and change all occurrences of i to j. This operation takes O(n) time.\n",
        "\n",
        "In the worst case, a sequence of n - 1 unions would take O(n^2) time. This is acceptable when there are a significant number of FIND operations, as the average time complexity remains O(1) for each UNION or FIND operation. But when there are fewer FINDs, this complexity becomes less desirable.\n",
        "\n",
        "\n",
        "---"
      ],
      "metadata": {
        "id": "rCwI6pDNSJAd"
      }
    },
    {
      "cell_type": "markdown",
      "source": [
        "## Fast UNION Implementation (Quick UNION)\n",
        "\n",
        "In this section and the following ones, we'll explore faster UNION implementations and their variations. There are various ways to implement this approach, and here's a list of a few of them:\n",
        "\n",
        "- Fast UNION implementations (Slow FIND)\n",
        "- Fast UNION implementations (Quick FIND)\n",
        "- Fast UNION implementations with path compression\n",
        "\n",
        "---\n"
      ],
      "metadata": {
        "id": "SzedPsZGSYAW"
      }
    },
    {
      "cell_type": "markdown",
      "source": [
        "## Fast UNION Implementation (Slow FIND)\n",
        "\n",
        "As we discussed, the FIND operation returns the same answer (set name) if and only if elements are in the same set. Our primary goal in representing disjoint sets is to assign a distinct set name to each group. In most cases, we don't need to know the actual set name; what matters is that each group has a unique identifier.\n",
        "\n",
        "One way to represent these sets is by using trees, where each element has only one root, which can be used as the set name. How are these trees represented? One approach is to use an array where each element keeps a reference to its parent. By doing this, we address the problem encountered with the FIND array implementation.\n",
        "\n",
        "To differentiate the root node of a set, we can assume that its parent is the same as the element itself in the array. With this representation, we can define the MAKESET, FIND, and UNION operations as follows:\n",
        "\n",
        "- **MAKESET(X):** Creates a new set containing a single element X and updates the parent of X in the array as X, making X the root (set name) of its set.\n",
        "\n",
        "- **UNION(X, Y):** Combines the sets containing X and Y, replacing them with their union. In the array, the parent of X is updated to be Y.\n",
        "\n",
        "- **FIND(X):** Retrieves the name of the set containing the element X. To find the set name, we continue searching for X's set name until we reach the root of the tree.\n",
        "\n",
        "---\n",
        "\n",
        "Suppose we have a collection of elements: `{A, B, C, D, E, F, G, H}`.\n",
        "\n",
        "Initially, each element is in its own set, represented as a tree with only one element (itself) and that element as its root:\n",
        "\n",
        "```\n",
        "A   B   C   D   E   F   G   H\n",
        "```\n",
        "\n",
        "Now, let's perform some operations:\n",
        "\n",
        "1. **MAKESET(X):** We create a new set containing element X (e.g., X = C):\n",
        "\n",
        "   ```\n",
        "   A   B   C   D   E   F   G   H\n",
        "                     |\n",
        "                     C\n",
        "   ```\n",
        "\n",
        "2. **UNION(X, Y):** We combine sets containing elements X and Y (e.g., X = B and Y = G):\n",
        "\n",
        "   ```\n",
        "   A     C   D   E   F       H\n",
        "     |     |   |   |       |\n",
        "     B     G   D   E   F   H\n",
        "   ```\n",
        "\n",
        "3. **FIND(X):** To find the set name for element F, we trace up the tree until we reach the root, which is the set name (e.g., FIND(F) = Set Name for F is A):\n",
        "\n",
        "   ```\n",
        "   A   C   D   E\n",
        "       |   |   |\n",
        "       B   G   F\n",
        "   ```\n",
        "\n",
        "This representation and these operations allow us to efficiently manage disjoint sets, and these concepts are used in various algorithms and data structures.\n",
        "\n",
        "---\n",
        "\n",
        "\n"
      ],
      "metadata": {
        "id": "1ETESQnjSf-C"
      }
    },
    {
      "cell_type": "markdown",
      "source": [
        "To perform a UNION operation on two sets, we merge the two trees by making the root of one tree point to the root of the other. This way, we combine sets efficiently.\n",
        "\n",
        "Initial Configuration for elements 0 to 5:\n",
        "\n",
        "```markdown\n",
        "Parent Array\n",
        "0 1 2 3 4 5\n",
        "```\n",
        "\n",
        "1. After UNION(5, 6):\n",
        "   - We merge the sets containing elements 5 and 6 by making the root of one point to the root of the other.\n",
        "\n",
        "```markdown\n",
        "Parent Array\n",
        "0 1 2 3 4 5\n",
        "        |\n",
        "        6\n",
        "```\n",
        "\n",
        "2. After UNION(1, 2):\n",
        "   - We merge the sets containing elements 1 and 2 by making the root of one point to the root of the other.\n",
        "\n",
        "```markdown\n",
        "Parent Array\n",
        "0 1 1 3 4 5\n",
        "          |\n",
        "          2\n",
        "          |\n",
        "          6\n",
        "```\n",
        "\n",
        "3. After UNION(0, 2):\n",
        "   - We merge the sets containing elements 0 and 2 by making the root of one point to the root of the other.\n",
        "\n",
        "```markdown\n",
        "Parent Array\n",
        "0 0 1 3 4 5\n",
        "          |\n",
        "          2\n",
        "          |\n",
        "          6\n",
        "```\n",
        "\n",
        "With this representation and the UNION operation, we efficiently combine sets by updating the root's parent. The time complexity of the UNION operation is O(1). A FIND(X) operation for element X is performed by returning the root of the tree containing X. The time it takes for this operation is proportional to the depth of the node representing X. In the worst case, it's possible to create a tree of depth n-1 (Skew Trees). The worst-case running time for a FIND operation is O(n), and m consecutive FIND operations take O(mn) time in the worst case.\n",
        "\n",
        "---\n",
        "\n"
      ],
      "metadata": {
        "id": "4PTy2sGmTMic"
      }
    },
    {
      "cell_type": "code",
      "source": [
        "class DisjointSet:\n",
        "    def __init__(self, n):\n",
        "        self.MAKESET(n)\n",
        "\n",
        "    def MAKESET(self, n):\n",
        "        # Initialize the disjoint set data structure.\n",
        "        self.S = [x for x in range(n)]  # Initialize each element in its own set.\n",
        "\n",
        "    def FIND(self, X):\n",
        "        # Find the representative (root) of the set containing element X.\n",
        "        if self.S[X] == X:\n",
        "            return X  # X is the root of its set.\n",
        "        else:\n",
        "            return self.FIND(self.S[X])  # Recursively find the root of the set.\n",
        "\n",
        "    def UNION(self, root1, root2):\n",
        "        # Combine two sets by making the root of one point to the root of the other.\n",
        "        self.S[root1] = root2\n"
      ],
      "metadata": {
        "id": "_6l3z5u8Tbv6"
      },
      "execution_count": null,
      "outputs": []
    },
    {
      "cell_type": "markdown",
      "source": [
        "## Fast UNION Implementations (Quick FIND)\n",
        "\n",
        "The main issue with the previous approach is that it can lead to skew trees in the worst case, resulting in a FIND operation with a time complexity of O(n). To improve this, we can employ two methods:\n",
        "\n",
        "1. **UNION by Size (UNION by Weight):** This approach involves making the smaller tree a subtree of the larger tree.\n",
        "\n",
        "2. **UNION by Height (UNION by Rank):** Here, we make the tree with less height a subtree of the tree with more height.\n",
        "\n",
        "### UNION by Size\n",
        "\n",
        "In the earlier representation, for each element i, we stored i for the root element and the parent of i for other elements. In this approach, we store the negative of the size of the tree. For example, if the size of the tree is 3, we store -3 in the parent array for the root element.\n",
        "\n",
        "After the UNION(0, 2) operation, the new representation will look like this:\n",
        "\n",
        "```\n",
        "Parent Array\n",
        "-2 1 -1 3 4 5\n",
        "```\n",
        "\n",
        "This approach effectively keeps track of the size of each set, allowing us to optimize UNION operations by making the smaller tree a subtree of the larger tree.\n",
        "\n",
        "---\n",
        "\n",
        "Suppose we have a parent array representation for elements 0 to 5:\n",
        "\n",
        "```markdown\n",
        "Parent Array\n",
        "0 1 2 3 4 5\n",
        "```\n",
        "\n",
        "1. After UNION(0, 2):\n",
        "   - We merge the sets containing elements 0 and 2, making the smaller tree a subtree of the larger tree.\n",
        "\n",
        "```markdown\n",
        "Parent Array\n",
        "-2 1 0 3 4 5\n",
        "```\n",
        "\n",
        "In this representation, we store the negative of the size of the tree in the parent array for the root element, effectively keeping track of the size of each set. This approach optimizes UNION operations by making the smaller tree a subtree of the larger tree.\n",
        "\n",
        "---\n"
      ],
      "metadata": {
        "id": "5lKnuEMSTnaR"
      }
    },
    {
      "cell_type": "code",
      "source": [
        "class DisjointSet:\n",
        "    def __init__(self, n):\n",
        "        self.MAKESET(n)\n",
        "\n",
        "    def MAKESET(self, n):\n",
        "        # Initialize the disjoint set data structure.\n",
        "        self.S = [-1 for x in range(n)]  # Initialize each element in its own set.\n",
        "\n",
        "    def FIND(self, X):\n",
        "        # Find the representative (root) of the set containing element X.\n",
        "        if self.S[X] < 0:\n",
        "            return X  # X is the root of its set.\n",
        "        else:\n",
        "            return self.FIND(self.S[X])  # Recursively find the root of the set.\n",
        "\n",
        "    def UNION(self, root1, root2):\n",
        "        if self.FIND(root1) == self.FIND(root2):\n",
        "            return  # Both elements are already in the same set.\n",
        "\n",
        "        if self.S[root2] <= self.S[root1]:\n",
        "            self.S[root2] += self.S[root1]  # Update the size (negative value) for root2.\n",
        "            self.S[root1] = root2  # Make root2 the parent of root1.\n",
        "        else:\n",
        "            self.S[root1] += self.S[root2]  # Update the size (negative value) for root1.\n",
        "            self.S[root2] = root1  # Make root1 the parent of root2\n"
      ],
      "metadata": {
        "id": "PDPosi8uUD95"
      },
      "execution_count": null,
      "outputs": []
    },
    {
      "cell_type": "markdown",
      "source": [
        "## UNION by Height (also known as \"UNION by Rank\")\n",
        "\n",
        "Suppose we have a parent array representation for elements 0 to 4:\n",
        "\n",
        "```markdown\n",
        "Parent Array\n",
        "2 2 -2 -1 -1\n",
        "```\n",
        "\n",
        "In this method, we store the negative of the height of the tree in the parent array for the root element. If the height of the tree is 3, we store -3. We assume the height of a tree with only one element is 1.\n",
        "\n",
        "After the UNION(0, 2) operation, the new representation will look like this:\n",
        "\n",
        "```markdown\n",
        "Parent Array\n",
        "2 2 -1 -1 -2\n",
        "```\n",
        "\n",
        "This approach keeps track of the height of each tree, allowing us to optimize UNION operations by making the tree with less height a subtree of the tree with more height.\n",
        "\n",
        "---\n"
      ],
      "metadata": {
        "id": "jN1F3iU2T6N8"
      }
    },
    {
      "cell_type": "code",
      "source": [
        "class DisjointSet:\n",
        "    def UNION(self, root1, root2):\n",
        "        # If root1 and root2 are already in the same set, return.\n",
        "        if self.FIND(root1) == self.FIND(root2) and self.FIND(root1) == -1:\n",
        "            return\n",
        "\n",
        "        # Compare the heights of the trees with root1 and root2.\n",
        "        if self.S[root2] < self.S[root1]:\n",
        "            self.S[root1] = root2\n",
        "        elif self.S[root2] == self.S[root1]:\n",
        "            self.S[root1] -= 1\n",
        "            self.S[root2] = root1\n",
        "\n",
        "\"\"\"\n",
        "In this implementation, we maintain the height (or rank) of each tree and optimize UNION operations\n",
        "by making the tree with less height a subtree of the tree with more height. The FIND operation remains unchanged.\n",
        "\"\"\""
      ],
      "metadata": {
        "id": "UlQVGc0MUavM"
      },
      "execution_count": null,
      "outputs": []
    },
    {
      "cell_type": "markdown",
      "source": [
        "## Comparing `UNION by Size` and `UNION by Height`:\n",
        "\n",
        "1. **UNION by Size**:\n",
        "   - In `UNION by Size`, we keep track of the size (number of nodes) of each set.\n",
        "   - The depth of any node in this method is never more than log(n), where n is the number of elements.\n",
        "   - This is because a node is initially at depth 0, and when its depth increases due to a UNION operation, it gets placed in a tree that is at least twice as large as before.\n",
        "   - As a result, the depth can be increased at most log(n) times, ensuring that the running time for a FIND operation is O(log(n)).\n",
        "   - A sequence of m operations, including UNIONs and FINDs, takes O(m log(n)) time.\n",
        "\n",
        "2. **UNION by Height (UNION by Rank)**:\n",
        "   - In `UNION by Height`, we keep track of the height (or rank) of each tree.\n",
        "   - When we take the UNION of two trees of the same height, the height of the resulting tree is one larger than the common height. If the heights are different, the resulting tree's height is equal to the maximum of the two heights.\n",
        "   - This method prevents the height of a tree with n nodes from growing beyond O(log(n)).\n",
        "   - A sequence of m UNIONs and FINDs still costs O(m log(n)).\n",
        "\n",
        "In summary, both `UNION by Size` and `UNION by Height` methods ensure that the depth (or height) of trees remains relatively small, resulting in efficient operations. The choice between them depends on the specific use case and performance requirements.\n",
        "\n",
        "---\n"
      ],
      "metadata": {
        "id": "U2baK_KzUtDt"
      }
    },
    {
      "cell_type": "markdown",
      "source": [
        "## Path compression\n",
        "\n",
        "Path compression is a technique used in disjoint-set data structures to optimize the FIND operation. It improves efficiency by making each node on the path to the root point directly to the root.\n",
        "\n",
        "**Path Compression in FIND Operation**:\n",
        "\n",
        "When you perform a FIND(X) operation, it usually involves traversing a list of nodes from X to the root of the tree. Path compression changes this by making each node on the path from X to the root point directly to the root. This process effectively shortens the path and improves the efficiency of subsequent FIND operations.\n",
        "\n",
        "Here's an example to illustrate the effect of path compression:\n",
        "\n",
        "- **Before FIND(X)**: When you traverse from X to the root, the nodes on the path maintain their current parent-child relationships.\n",
        "\n",
        "- **After FIND(X)**: With path compression, after finding the root of the set, X is made to point directly to the root. This process is applied recursively to every node on the path to the root, compressing the path.\n",
        "\n",
        "The key change in the FIND function with path compression is that S[X] is set to the value returned by the FIND operation. This means that, after the root of the set is found recursively, X is made to point directly to it, and this path compression recurses through every node on the path to the root.\n",
        "\n",
        "Path compression significantly improves the efficiency of the FIND operation in disjoint-set data structures, as it minimizes the height of the trees, ensuring that most operations have a near-constant time complexity.\n",
        "\n",
        "---\n"
      ],
      "metadata": {
        "id": "1ziCPDwyU4QB"
      }
    },
    {
      "cell_type": "code",
      "source": [
        "class DisjointSet:\n",
        "    def FINDBYSIZE(self, X):\n",
        "        # Find the representative (root) of the set containing element X with path compression.\n",
        "        if self.S[X] < 0:\n",
        "            return X  # X is the root of its set.\n",
        "        else:\n",
        "            self.S[X] = self.FINDBYSIZE(self.S[X])  # Recursively find the root and compress the path.\n",
        "            return self.S[X]\n"
      ],
      "metadata": {
        "id": "cG67Mu4cVHKM"
      },
      "execution_count": null,
      "outputs": []
    },
    {
      "cell_type": "markdown",
      "source": [
        "- In this implementation, the `FIND` operation (`FINDBYSIZE`) uses path compression to improve efficiency. When a node is not the root of the set, it recursively finds the root and compresses the path by making each node on the path point directly to the root. This optimization significantly reduces the height of the trees in the disjoint-set data structure, making most operations nearly constant time.\n",
        "\n",
        "---\n"
      ],
      "metadata": {
        "id": "d5JoW84UVPbp"
      }
    },
    {
      "cell_type": "markdown",
      "source": [
        "### Summary table for the time complexity of different union-find algorithms\n",
        "\n",
        "- Performing m union-find operations on a set of n objects:\n",
        "\n",
        "\n",
        "| Algorithm                                      | Worst-case Time Complexity       |\n",
        "| ---------------------------------------------- | --------------------------------- |\n",
        "| Quick-Find                                    | O(mn)                           |\n",
        "| Quick-Union                                   | O(mn)                           |\n",
        "| Quick-Union by Size or Height                 | O(n + m log(n))                  |\n",
        "| Path Compression                              | O(n + m log(n))                  |\n",
        "| Quick-Union by Size/Height + Path Compression  | O((m + n) log(n))                |\n",
        "\n",
        "\n",
        "\n",
        "- These complexities represent the worst-case scenarios for these algorithms when applied to a set of n objects with m union-find operations. Quick-Find and Quick-Union have quadratic complexities, while Quick-Union by Size/Height and Path Compression improve the time complexity to linearithmic (n + m log(n)). Combining Quick-Union by Size/Height with Path Compression further reduces the complexity to (m + n) log(n).\n",
        "\n",
        "---\n"
      ],
      "metadata": {
        "id": "Anbw3LjZVS7O"
      }
    },
    {
      "cell_type": "code",
      "source": [],
      "metadata": {
        "id": "1UsfgdoTRteD"
      },
      "execution_count": null,
      "outputs": []
    }
  ]
}